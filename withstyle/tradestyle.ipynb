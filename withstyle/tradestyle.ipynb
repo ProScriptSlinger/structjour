{
 "cells": [
  {
   "cell_type": "code",
   "execution_count": 1,
   "metadata": {},
   "outputs": [],
   "source": [
    "from openpyxl import Workbook\n",
    "from openpyxl.utils import get_column_letter\n",
    "from openpyxl.utils import coordinate_from_string, column_index_from_string\n",
    "\n",
    "from openpyxl.styles import (PatternFill, \n",
    "                             Border, \n",
    "                             Side, \n",
    "                             Alignment, \n",
    "                             Protection, \n",
    "                             Font,\n",
    "                             colors,\n",
    "                             Color\n",
    "                            )\n",
    "\n",
    "%config IPCompleter.greedy=True "
   ]
  },
  {
   "cell_type": "code",
   "execution_count": 2,
   "metadata": {},
   "outputs": [],
   "source": [
    "from openpyxl.styles import Border, Side, PatternFill, Font, GradientFill, Alignment\n",
    "from openpyxl import Workbook\n",
    "\n",
    "\n",
    "def style_range(ws, cell_range, border=Border(), fill=None, font=None, alignment=None):\n",
    "    \"\"\"\n",
    "    Apply styles to a range of cells as if they were a single cell.\n",
    "\n",
    "    :param ws:  Excel worksheet instance\n",
    "    :param range: An excel range to style (e.g. A1:F20)\n",
    "    :param border: An openpyxl Border\n",
    "    :param fill: An openpyxl PatternFill or GradientFill\n",
    "    :param font: An openpyxl Font object\n",
    "    \"\"\"\n",
    "\n",
    "    top = Border(top=border.top)\n",
    "    left = Border(left=border.left)\n",
    "    right = Border(right=border.right)\n",
    "    bottom = Border(bottom=border.bottom)\n",
    "\n",
    "    first_cell = ws[cell_range.split(\":\")[0]]\n",
    "    if alignment:\n",
    "#         ws.merge_cells(cell_range)\n",
    "        first_cell.alignment = alignment\n",
    "\n",
    "    rows = ws[cell_range]\n",
    "    if font:\n",
    "        first_cell.font = font\n",
    "\n",
    "    for cell in rows[0]:\n",
    "        cell.border = cell.border + top\n",
    "    for cell in rows[-1]:\n",
    "        cell.border = cell.border + bottom\n",
    "\n",
    "    for row in rows:\n",
    "        l = row[0]\n",
    "        r = row[-1]\n",
    "        l.border = l.border + left\n",
    "        r.border = r.border + right\n",
    "        if fill:\n",
    "            for c in row:\n",
    "                c.fill = fill\n"
   ]
  },
  {
   "cell_type": "code",
   "execution_count": 3,
   "metadata": {},
   "outputs": [
    {
     "ename": "SyntaxError",
     "evalue": "invalid syntax (<ipython-input-3-7ee6f2e623d9>, line 10)",
     "output_type": "error",
     "traceback": [
      "\u001b[1;36m  File \u001b[1;32m\"<ipython-input-3-7ee6f2e623d9>\"\u001b[1;36m, line \u001b[1;32m10\u001b[0m\n\u001b[1;33m    return \"{0}{1}\".format(get_column_letter(icell[0]),icell[1])\u001b[0m\n\u001b[1;37m         ^\u001b[0m\n\u001b[1;31mSyntaxError\u001b[0m\u001b[1;31m:\u001b[0m invalid syntax\n"
     ]
    }
   ],
   "source": [
    "def getStringCoord (coord) :\n",
    "    x,y = coord\n",
    "    xl = get_column_letter(x)\n",
    "    coord = \"{0}{1}\".format(xl, str(y))\n",
    "    return coord\n",
    "\n",
    "def c(icell,  add= None) :\n",
    "    if add :\n",
    "        icell = (icell[0] + add[0], icell[1] + add[1]\n",
    "    return \"{0}{1}\".format(get_column_letter(icell[0]),icell[1])\n",
    "    \n",
    "c((2,34))"
   ]
  },
  {
   "cell_type": "code",
   "execution_count": 4,
   "metadata": {},
   "outputs": [],
   "source": [
    "class TradeFormat :\n",
    "    def __init__(self, a=(1,1) ):\n",
    "        self.tradeAnchor = a\n",
    "\n",
    "        #This first gtoup of ranges and styles refer to the larger font 3 by 2 merged sells --aka titleStyles\n",
    "        \n",
    "        # range1 is the amount to add. thus, with range = (2,1) the range of (1,1) goes to (3,2) covering a 3 by 2 grid\n",
    "        self.range1 = (2,1)\n",
    "        self.anchor1 = [\n",
    "            (1,1), (4,1), (7,1), \n",
    "            (7,3), (7,5), (7, 7), \n",
    "            (7,9), (7,11), (7,13), (7,15), (7,17), (7,19), (7,21)\n",
    "        ]\n",
    "        self.titleStyles= (\n",
    "            Font(color=\"FFFFFF\", size=16),\n",
    "            Alignment(horizontal=\"center\", vertical=\"center\", wrapText=True),\n",
    "            PatternFill(start_color='A6A6A6', end_color='A6A6A6', fill_type='solid'),\n",
    "            Border(left=Side(style='double'),\n",
    "                   right=Side(style='double'), \n",
    "                   top=Side(style='double'), \n",
    "                   bottom=Side(style='double'))\n",
    "        )\n",
    "\n",
    "        # This second group of titles and fonts refer to the larger spaces (6 by 6 )  for notes\n",
    "        self.range2=(5,5)\n",
    "        self.anchor2 = [(1,11), (1,17)]\n",
    "\n",
    "        self.noteStyles = (\n",
    "            Font(color=\"000000\", size=10),\n",
    "            Alignment(horizontal=\"left\", vertical=\"top\", wrapText=True),\n",
    "            PatternFill(start_color='FFFFCC', end_color='FFFFCC', fill_type='solid'),\n",
    "            Border(left=Side(style='double'),\n",
    "                   right=Side(style='double'), \n",
    "                   top=Side(style='double'), \n",
    "                   bottom=Side(style='double'))\n",
    "            )\n",
    "        self.range3= (\"A3:F10\")\n",
    "        self.rangeNumFormat = (\"B3:F8\")\n",
    "        self.normStyles = (\n",
    "            Font(color=\"FFFFFF\", size=11),\n",
    "            Alignment(horizontal=\"left\", vertical=\"bottom\"),\n",
    "            PatternFill(start_color='A6A6A6', end_color='A6A6A6', fill_type='solid'),\n",
    "            Border(left=Side(style='double'),\n",
    "                   right=Side(style='double'), \n",
    "                   top=Side(style='double'), \n",
    "                   bottom=Side(style='double'))\n",
    "        )\n",
    "        \n",
    "        \n",
    "        \n",
    "    def mergeStuff(self, ws, anchor=(1,1), width=3, height=2) :\n",
    "        width = width -1\n",
    "        height = height -1\n",
    "        ws.merge_cells(start_row=anchor[1], \n",
    "                       start_column=anchor[0], \n",
    "                       end_row=anchor[1]+height, \n",
    "                       end_column=anchor[0]+width)\n",
    "\n",
    "        return (anchor, (anchor[0]+ width, anchor[1] + height))\n",
    "    \n",
    "\n",
    "    \n",
    "\n",
    "    def formatTrade(self, ws, tstyle=None) :\n",
    "        for r in self.anchor1 :\n",
    "            cell = self.c(r)\n",
    "            self.mergeStuff(ws, anchor = r)\n",
    "#             print(\"something?\", cell)\n",
    "            \n",
    "            ws[self.c(r)].font = self.titleStyles[0]\n",
    "            ws[self.c(r)].alignment = self.titleStyles[1]\n",
    "            ws[self.c(r)].fill = self.titleStyles[2]\n",
    "            rng = \"{0}:{1}\".format(self.c(r), self.c(r, self.range1))\n",
    "            print(rng)\n",
    "            style_range(ws, rng, border=self.noteStyles[3])\n",
    "\n",
    "            \n",
    "        for r in self.anchor2 :\n",
    "            self.mergeStuff(ws, anchor = r, width=6, height=6)\n",
    "            \n",
    "            ws[self.c(r)].font = self.noteStyles[0]\n",
    "            ws[self.c(r)].alignment = self.noteStyles[1]\n",
    "            ws[self.c(r)].fill = self.noteStyles[2]\n",
    "            rng = \"{0}:{1}\".format(self.c(r), self.c(r, self.range2))\n",
    "            print(rng)\n",
    "# \n",
    "            style_range(ws, rng, border=self.noteStyles[3])\n",
    "    \n",
    "    \n",
    "        first_cell = ws[self.range3.split(\":\")[0]]\n",
    "        rows = ws[self.range3]\n",
    "        for row in rows:\n",
    "            for c in row:\n",
    "                c.font = self.normStyles[0]\n",
    "                c.alignment = self.normStyles[1]\n",
    "                c.fill = self.normStyles[2]\n",
    "                c.border = self.normStyles[3]\n",
    "                \n",
    "        rows = ws[self.rangeNumFormat]\n",
    "        for row in rows:\n",
    "            for c in row:\n",
    "                c.number_format = '\"$\"#,##0.00_);[Red]\\(\"$\"#,##0.00\\)'\n",
    "                \n",
    "    \n",
    "\n",
    "\n",
    "        \n",
    "\n",
    "        cc = ws['A1']\n",
    "        ws['A1'] = 'Some trade short eh?'\n",
    "        cc.value = 'Trade 4 -- MU Long'\n",
    "        \n",
    "        cc = ws['A1']\n",
    "        ws['A1'] = 'Some trade short eh?'\n",
    "        cc.value = 'Trade 4 -- MU Long'\n",
    "        \n",
    "        nn = ws[self.c((1,11))]\n",
    "        nn.value = \\\n",
    "'''It was a long trade, it was a short trade it was a trade \n",
    "with too many words associated  with it it w as a trade with \n",
    "not enough said about it. All in all I am not saying anything \n",
    "new here  and in fact i am not saying anything at all i assure \n",
    "if you detect an y  meaning herea youo are mistaken'''\n",
    "\n",
    "    def c(self, icell,  add= None) :\n",
    "        if add :\n",
    "            icell = (icell[0] + add[0], icell[1] + add[1])\n",
    "        return \"{0}{1}\".format(get_column_letter(icell[0]),icell[1])\n",
    "    \n",
    "    def stupidFormat(self, ws) :\n",
    "        for r in self.anchor1 :\n",
    "            print(r)\n",
    "            self.mergeStuff(ws, anchor = r)\n",
    "            \n",
    "    \n",
    "   "
   ]
  },
  {
   "cell_type": "code",
   "execution_count": 5,
   "metadata": {},
   "outputs": [],
   "source": [
    "tf = TradeFormat()\n",
    "wb=Workbook()\n",
    "ws = wb.active"
   ]
  },
  {
   "cell_type": "code",
   "execution_count": 6,
   "metadata": {},
   "outputs": [
    {
     "name": "stdout",
     "output_type": "stream",
     "text": [
      "A1:C2\n",
      "D1:F2\n",
      "G1:I2\n",
      "G3:I4\n",
      "G5:I6\n",
      "G7:I8\n",
      "G9:I10\n",
      "G11:I12\n",
      "G13:I14\n",
      "G15:I16\n",
      "G17:I18\n",
      "G19:I20\n",
      "G21:I22\n",
      "A11:F16\n",
      "A17:F22\n"
     ]
    }
   ],
   "source": [
    "tf.formatTrade(ws)"
   ]
  },
  {
   "cell_type": "code",
   "execution_count": 7,
   "metadata": {},
   "outputs": [],
   "source": [
    "wb.save('out/justlookin.xlsx')"
   ]
  },
  {
   "cell_type": "markdown",
   "metadata": {},
   "source": [
    "### 4 different currency formats:\n",
    "\"$\"#,##0.00_);[Red]\\(\"$\"#,##0.00\\)\n",
    "\n",
    "\"$\"#,##0.00_);\\(\"$\"#,##0.00\\)\n",
    "\n",
    "\"$\"#,##0.00;[Red]\"$\"#,##0.00\n",
    "\n",
    "\"$\"#,##0.00"
   ]
  },
  {
   "cell_type": "code",
   "execution_count": null,
   "metadata": {},
   "outputs": [],
   "source": [
    "tf =TradeFormat()\n",
    "tf.stupidFormat(ws)\n"
   ]
  },
  {
   "cell_type": "code",
   "execution_count": null,
   "metadata": {},
   "outputs": [],
   "source": []
  },
  {
   "cell_type": "code",
   "execution_count": null,
   "metadata": {},
   "outputs": [],
   "source": []
  },
  {
   "cell_type": "code",
   "execution_count": null,
   "metadata": {},
   "outputs": [],
   "source": []
  },
  {
   "cell_type": "code",
   "execution_count": null,
   "metadata": {},
   "outputs": [],
   "source": []
  },
  {
   "cell_type": "code",
   "execution_count": null,
   "metadata": {},
   "outputs": [],
   "source": []
  },
  {
   "cell_type": "code",
   "execution_count": null,
   "metadata": {},
   "outputs": [],
   "source": [
    "\n",
    "# try :\n",
    "#     ws['A1'].style = '60 % - Accent3'\n",
    "#     a3.style = '80 % - Accent3'\n",
    "# exce?pt ValueError :\n",
    "\n",
    "\n",
    "\n",
    "ws['A1'].fill = PatternFill(start_color='A6A6A6', end_color='A6A6A6', fill_type='solid')\n",
    "ws['A1'].font = Font(color=\"FFFFFF\", size=16)\n",
    "ws['A1'].alignment = Alignment(horizontal=\"center\", vertical=\"center\")\n",
    "        \n",
    "        \n",
    "                "
   ]
  },
  {
   "cell_type": "code",
   "execution_count": null,
   "metadata": {},
   "outputs": [],
   "source": []
  },
  {
   "cell_type": "code",
   "execution_count": null,
   "metadata": {},
   "outputs": [],
   "source": []
  },
  {
   "cell_type": "code",
   "execution_count": null,
   "metadata": {},
   "outputs": [],
   "source": []
  },
  {
   "cell_type": "code",
   "execution_count": null,
   "metadata": {},
   "outputs": [],
   "source": []
  },
  {
   "cell_type": "code",
   "execution_count": null,
   "metadata": {},
   "outputs": [],
   "source": []
  },
  {
   "cell_type": "code",
   "execution_count": null,
   "metadata": {},
   "outputs": [],
   "source": []
  },
  {
   "cell_type": "code",
   "execution_count": null,
   "metadata": {},
   "outputs": [],
   "source": []
  },
  {
   "cell_type": "code",
   "execution_count": null,
   "metadata": {},
   "outputs": [],
   "source": []
  },
  {
   "cell_type": "code",
   "execution_count": null,
   "metadata": {},
   "outputs": [],
   "source": []
  },
  {
   "cell_type": "code",
   "execution_count": null,
   "metadata": {},
   "outputs": [],
   "source": []
  },
  {
   "cell_type": "code",
   "execution_count": null,
   "metadata": {},
   "outputs": [],
   "source": []
  },
  {
   "cell_type": "markdown",
   "metadata": {},
   "source": [
    "### Some utility stuff i will need at some point"
   ]
  },
  {
   "cell_type": "code",
   "execution_count": null,
   "metadata": {},
   "outputs": [],
   "source": [
    "xy = coordinate_from_string('A4') # returns ('A',4)\n",
    "xy"
   ]
  },
  {
   "cell_type": "code",
   "execution_count": null,
   "metadata": {},
   "outputs": [],
   "source": [
    "xy=('C45')\n",
    "col = column_index_from_string(xy[0]) # returns 1\n",
    "col"
   ]
  },
  {
   "cell_type": "code",
   "execution_count": null,
   "metadata": {},
   "outputs": [],
   "source": [
    "xy[1]"
   ]
  },
  {
   "cell_type": "code",
   "execution_count": null,
   "metadata": {},
   "outputs": [],
   "source": []
  },
  {
   "cell_type": "code",
   "execution_count": null,
   "metadata": {},
   "outputs": [],
   "source": []
  },
  {
   "cell_type": "code",
   "execution_count": null,
   "metadata": {},
   "outputs": [],
   "source": []
  },
  {
   "cell_type": "code",
   "execution_count": null,
   "metadata": {},
   "outputs": [],
   "source": []
  },
  {
   "cell_type": "code",
   "execution_count": null,
   "metadata": {},
   "outputs": [],
   "source": []
  },
  {
   "cell_type": "code",
   "execution_count": null,
   "metadata": {},
   "outputs": [],
   "source": []
  },
  {
   "cell_type": "code",
   "execution_count": null,
   "metadata": {},
   "outputs": [],
   "source": [
    "\n",
    "print(get_column_letter(1))"
   ]
  },
  {
   "cell_type": "code",
   "execution_count": null,
   "metadata": {},
   "outputs": [],
   "source": [
    "def c(icell,  add= None) :\n",
    "    if add :\n",
    "        icell = (icell[0] + add[0], icell[1] + add[1])\n",
    "    return \"{0}{1}\".format(get_column_letter(icell[0]),icell[1])"
   ]
  },
  {
   "cell_type": "code",
   "execution_count": null,
   "metadata": {},
   "outputs": [],
   "source": [
    "a=(4,40)\n",
    "b=(5,5)\n",
    "D = (a[0] + b[0], a[1] + b[1]) \n",
    "D"
   ]
  },
  {
   "cell_type": "code",
   "execution_count": null,
   "metadata": {},
   "outputs": [],
   "source": [
    "c(a,b)\n"
   ]
  },
  {
   "cell_type": "code",
   "execution_count": null,
   "metadata": {},
   "outputs": [],
   "source": [
    "c(D)"
   ]
  },
  {
   "cell_type": "code",
   "execution_count": null,
   "metadata": {},
   "outputs": [],
   "source": []
  },
  {
   "cell_type": "code",
   "execution_count": null,
   "metadata": {},
   "outputs": [],
   "source": []
  },
  {
   "cell_type": "code",
   "execution_count": null,
   "metadata": {},
   "outputs": [],
   "source": []
  },
  {
   "cell_type": "code",
   "execution_count": null,
   "metadata": {},
   "outputs": [],
   "source": []
  },
  {
   "cell_type": "code",
   "execution_count": null,
   "metadata": {},
   "outputs": [],
   "source": []
  },
  {
   "cell_type": "code",
   "execution_count": null,
   "metadata": {},
   "outputs": [],
   "source": []
  },
  {
   "cell_type": "code",
   "execution_count": null,
   "metadata": {},
   "outputs": [],
   "source": []
  },
  {
   "cell_type": "code",
   "execution_count": null,
   "metadata": {},
   "outputs": [],
   "source": []
  },
  {
   "cell_type": "code",
   "execution_count": null,
   "metadata": {},
   "outputs": [],
   "source": []
  },
  {
   "cell_type": "code",
   "execution_count": null,
   "metadata": {},
   "outputs": [],
   "source": []
  },
  {
   "cell_type": "code",
   "execution_count": null,
   "metadata": {},
   "outputs": [],
   "source": []
  },
  {
   "cell_type": "code",
   "execution_count": null,
   "metadata": {},
   "outputs": [],
   "source": []
  },
  {
   "cell_type": "code",
   "execution_count": null,
   "metadata": {},
   "outputs": [],
   "source": []
  },
  {
   "cell_type": "code",
   "execution_count": null,
   "metadata": {},
   "outputs": [],
   "source": []
  },
  {
   "cell_type": "markdown",
   "metadata": {},
   "source": [
    "### I think I will need this for borders"
   ]
  },
  {
   "cell_type": "code",
   "execution_count": null,
   "metadata": {},
   "outputs": [],
   "source": []
  },
  {
   "cell_type": "code",
   "execution_count": null,
   "metadata": {},
   "outputs": [],
   "source": []
  },
  {
   "cell_type": "code",
   "execution_count": null,
   "metadata": {},
   "outputs": [],
   "source": []
  },
  {
   "cell_type": "code",
   "execution_count": null,
   "metadata": {},
   "outputs": [],
   "source": []
  }
 ],
 "metadata": {
  "kernelspec": {
   "display_name": "Python 3",
   "language": "python",
   "name": "python3"
  },
  "language_info": {
   "codemirror_mode": {
    "name": "ipython",
    "version": 3
   },
   "file_extension": ".py",
   "mimetype": "text/x-python",
   "name": "python",
   "nbconvert_exporter": "python",
   "pygments_lexer": "ipython3",
   "version": "3.6.5"
  }
 },
 "nbformat": 4,
 "nbformat_minor": 2
}
