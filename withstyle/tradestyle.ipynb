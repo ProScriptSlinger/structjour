{
 "cells": [
  {
   "cell_type": "code",
   "execution_count": null,
   "metadata": {},
   "outputs": [],
   "source": [
    "from openpyxl import Workbook\n",
    "from openpyxl.utils import get_column_letter\n",
    "from openpyxl.utils import coordinate_from_string, column_index_from_string\n",
    "from copy import copy\n",
    "\n",
    "from openpyxl.styles import (PatternFill, GradientFill, Border, Side, Alignment, \n",
    "                             Protection, Font, colors, Color, NamedStyle)\n",
    "\n",
    "%config IPCompleter.greedy=True \n",
    "\n",
    "from thetradeobject import TheTradeObject, SumReqFields"
   ]
  },
  {
   "cell_type": "code",
   "execution_count": null,
   "metadata": {},
   "outputs": [],
   "source": [
    "#global variable\n",
    "srf = SumReqFields()"
   ]
  },
  {
   "cell_type": "code",
   "execution_count": null,
   "metadata": {},
   "outputs": [],
   "source": [
    "def style_range(ws, cell_range, border=Border(), fill=None, font=None, alignment=None):\n",
    "    \"\"\"\n",
    "    Apply styles to a range of cells as if they were a single cell.\n",
    "\n",
    "    :param ws:  Excel worksheet instance\n",
    "    :param range: An excel range to style (e.g. A1:F20)\n",
    "    :param border: An openpyxl Border\n",
    "    :param fill: An openpyxl PatternFill or GradientFill\n",
    "    :param font: An openpyxl Font object\n",
    "    \"\"\"\n",
    "\n",
    "    top = Border(top=border.top)\n",
    "    left = Border(left=border.left)\n",
    "    right = Border(right=border.right)\n",
    "    bottom = Border(bottom=border.bottom)\n",
    "\n",
    "    first_cell = ws[cell_range.split(\":\")[0]]\n",
    "    if alignment:\n",
    "#         ws.merge_cells(cell_range)\n",
    "        first_cell.alignment = alignment\n",
    "\n",
    "    rows = ws[cell_range]\n",
    "    if font:\n",
    "        first_cell.font = font\n",
    "\n",
    "    for cell in rows[0]:\n",
    "        cell.border = cell.border + top\n",
    "    for cell in rows[-1]:\n",
    "        cell.border = cell.border + bottom\n",
    "\n",
    "    for row in rows:\n",
    "        l = row[0]\n",
    "        r = row[-1]\n",
    "        l.border = l.border + left\n",
    "        r.border = r.border + right\n",
    "        if fill:\n",
    "            for c in row:\n",
    "                c.fill = fill"
   ]
  },
  {
   "cell_type": "code",
   "execution_count": null,
   "metadata": {},
   "outputs": [],
   "source": [
    "def c(icell, end=None, anchor= None) :\n",
    "    '''\n",
    "    Translates numerical coordinates as tuplits to excels  string addresses e.g., (1,1) returns 'A1' \n",
    "    :params:icell: The cell to translate.\n",
    "    :parmas:end: Creates an excel range with icell at the top right and end at the bottom left.\n",
    "    :params:anchor: A translation amount. The cell or range  will be translated by the amount of the cell -1\n",
    "                    to account for all cells beginning at (1,1) not(0,0)\n",
    "    '''\n",
    "    if anchor :\n",
    "        anchor = (anchor[0] - 1, anchor[1] - 1)\n",
    "        icell = (icell[0] + anchor[0], icell[1] + anchor[1])\n",
    "        if end :\n",
    "            end = (end [0] + anchor[0], end[1] + anchor[1])\n",
    "\n",
    "    # mini recursion to handle range\n",
    "    if end is not None:\n",
    "        return \"{0}:{1}\".format(c(icell),c(end))\n",
    "    # For the single coordinate\n",
    "    return \"{0}{1}\".format(get_column_letter(icell[0]),icell[1])\n",
    "    \n",
    "c((1,1), (3,2), (7,3))"
   ]
  },
  {
   "cell_type": "code",
   "execution_count": null,
   "metadata": {},
   "outputs": [],
   "source": [
    "class TradeFormat :\n",
    "    def __init__(self, wb, a=(1,1) ):\n",
    "        self.tradeAnchor = a\n",
    "        titleStyle = NamedStyle(name=\"titleStyle\")\n",
    "        titleStyle.font = Font(color=\"FFFFFF\", size=16)\n",
    "        titleStyle.alignment = Alignment(horizontal=\"center\", vertical=\"center\", wrapText=True)\n",
    "        titleStyle.fill = PatternFill(start_color='A6A6A6', end_color='A6A6A6', fill_type='solid')\n",
    "        titleStyle.border = Border(left=Side(style='double'),\n",
    "                                 right=Side(style='double'), \n",
    "                                 top=Side(style='double'), \n",
    "                                 bottom=Side(style='double'))\n",
    "        titleStyle.number_format = '\"$\"#,##0.00_);[Red]\\(\"$\"#,##0.00\\)'\n",
    "        wb.add_named_style(titleStyle) #This will be done automatically if you use it...\n",
    "        \n",
    "        \n",
    "        titleStyleStratNotes = NamedStyle(name=\"titleStyleStratNotes\")\n",
    "        titleStyleStratNotes.font = Font(color=\"FFFFFF\", size=8)\n",
    "        titleStyleStratNotes.alignment = Alignment(horizontal=\"center\", vertical=\"center\", wrapText=True)\n",
    "        titleStyleStratNotes.fill = PatternFill(start_color='A6A6A6', end_color='A6A6A6', fill_type='solid')\n",
    "        titleStyleStratNotes.border = Border(left=Side(style='double'),\n",
    "                                 right=Side(style='double'), \n",
    "                                 top=Side(style='double'), \n",
    "                                 bottom=Side(style='double'))\n",
    "        titleStyleStratNotes.number_format = '\"$\"#,##0.00_);[Red]\\(\"$\"#,##0.00\\)'\n",
    "        wb.add_named_style(titleStyleStratNotes) #This will be done automatically if you use it...\n",
    "        \n",
    "        \n",
    "       \n",
    "\n",
    "        noteStyle = NamedStyle(name=\"noteStyle\")\n",
    "        noteStyle.font = Font(color=\"000000\", size=10)\n",
    "        noteStyle.alignment = Alignment(horizontal=\"left\", vertical=\"top\", wrapText=True)\n",
    "        noteStyle.fill = PatternFill(start_color='FFFFCC', end_color='FFFFCC', fill_type='solid')\n",
    "        noteStyle.border = Border(left=Side(style='double'),\n",
    "                                  right=Side(style='double'), \n",
    "                                  top=Side(style='double'), \n",
    "                                  bottom=Side(style='double'))\n",
    "        wb.add_named_style (noteStyle)\n",
    "        \n",
    "        \n",
    "        normStyle = NamedStyle(name = \"normStyle\")\n",
    "        normStyle.font = Font(color=\"FFFFFF\", size=11)\n",
    "        normStyle.alignment = Alignment(horizontal=\"left\", vertical=\"bottom\")\n",
    "        normStyle.fill = PatternFill(start_color='A6A6A6', end_color='A6A6A6', fill_type='solid')\n",
    "        normStyle.border = Border(left=Side(style='double'),\n",
    "                                  right=Side(style='double'), \n",
    "                                  top=Side(style='double'), \n",
    "                                  bottom=Side(style='double'))\n",
    "        normStyle.number_format = '\"$\"#,##0.00_);[Red]\\(\"$\"#,##0.00\\)'\n",
    "        wb.add_named_style (normStyle)\n",
    "       \n",
    "       \n",
    "        normStyleRR = NamedStyle(name = \"normStyleRR\")\n",
    "        normStyleRR.font = Font(color=\"FFFFFF\", size=11)\n",
    "        normStyleRR.alignment = Alignment(horizontal=\"left\", vertical=\"bottom\")\n",
    "        normStyleRR.fill = PatternFill(start_color='A6A6A6', end_color='A6A6A6', fill_type='solid')\n",
    "        normStyleRR.border = Border(left=Side(style='double'),\n",
    "                                  right=Side(style='double'), \n",
    "                                  top=Side(style='double'), \n",
    "                                  bottom=Side(style='double'))\n",
    "        normStyleRR.number_format = '# ??/??'\n",
    "        wb.add_named_style (normStyleRR)\n",
    "        \n",
    "       # TODO Have not created a seperate titleStyleLink style, using titleStyle\n",
    "        self.styles = dict(\n",
    "            titleStyle = titleStyle,\n",
    "            titleStyleStratNotes = titleStyleStratNotes,\n",
    "            titleStyleLink = titleStyle,\n",
    "            normStyle = normStyle,\n",
    "            normStyleRR = normStyleRR,\n",
    "            noteStyle  = noteStyle\n",
    "            \n",
    "        )\n",
    "\n",
    "    def mergeStuff(self, ws, icell, end, anchor=None) :\n",
    "        if anchor :\n",
    "            anchor = (anchor[0] - 1, anchor[1] - 1)\n",
    "            icell = (icell[0] + anchor[0], icell[1] + anchor[1])\n",
    "            end = (end [0] + anchor[0], end[1] + anchor[1])\n",
    "\n",
    "        ws.merge_cells(start_row=icell[1], \n",
    "                       start_column=icell[0], \n",
    "                       end_row=end[1], \n",
    "                       end_column=end[0])\n",
    "\n",
    "        return (icell, end)\n",
    "    \n",
    "\n",
    "    def formatTrade(self, ws, tstyle=None, anchor = None) :\n",
    "        if anchor:\n",
    "            self.tradeAnchor = anchor\n",
    "        anc = self.tradeAnchor\n",
    "        \n",
    "        for val in  srf.tfcolumns.values() :\n",
    "            if isinstance(val[0], list) :\n",
    "                self.mergeStuff(ws, val[0][0], val[0][1], anchor=anc)\n",
    "                rng = c(val[0][0], val[0][1], anchor=anc)\n",
    "                \n",
    "                style_range(ws, rng, self.styles[val[1]].border)\n",
    "                ws[c(val[0][0], anchor=anc)].style = self.styles[val[1]]\n",
    "\n",
    "            else :\n",
    "                ws[c(val[0], anchor=anc)].style = self.styles[val[1]]\n",
    "        \n",
    "    \n",
    "\n",
    "        \n",
    "        \n",
    "\n",
    "        cc = ws[c((1,1), anchor=self.tradeAnchor)]\n",
    "        ws[c((1,1), anchor=self.tradeAnchor)] = 'Some trade short eh?'\n",
    "        cc.value = 'Trade 4 -- MU Long'\n",
    "        \n",
    "        \n",
    "        ws[c((7,5), anchor=self.tradeAnchor)] = \"Its the end of the world as we know it, and its really past due.!\"\n",
    "        \n",
    "        nn = ws[c((1,11), anchor=self.tradeAnchor)]\n",
    "        nn.value = \\\n",
    "'''It was a long trade, it was a short trade it was a trade \n",
    "with too many words associated  with it it w as a trade with \n",
    "not enough said about it. All in all I am not saying anything \n",
    "new here  and in fact i am not saying anything at all i assure \n",
    "if you detect an y  meaning herea youo are mistaken'''\n",
    "    \n",
    "\n",
    "  \n",
    "\n",
    "    def c(self, icell,  add= None) :\n",
    "        if add :\n",
    "            icell = (icell[0] + add[0], icell[1] + add[1])\n",
    "        return \"{0}{1}\".format(get_column_letter(icell[0]),icell[1])\n",
    "    \n",
    "   \n",
    "    \n",
    "   "
   ]
  },
  {
   "cell_type": "code",
   "execution_count": null,
   "metadata": {},
   "outputs": [],
   "source": [
    "\n",
    "wb=Workbook()\n",
    "\n",
    "ws = wb.active\n",
    "tf = TradeFormat(wb, a = ((1,45)))\n",
    "tf.formatTrade(ws)\n",
    "tf.formatTrade(ws, anchor=(7,96))\n"
   ]
  },
  {
   "cell_type": "code",
   "execution_count": null,
   "metadata": {},
   "outputs": [],
   "source": [
    "wb.save('out/justlookin.xlsx')"
   ]
  },
  {
   "cell_type": "code",
   "execution_count": null,
   "metadata": {},
   "outputs": [],
   "source": []
  },
  {
   "cell_type": "markdown",
   "metadata": {},
   "source": [
    "### 4 different currency formats:\n",
    "\"$\"#,##0.00_);[Red]\\(\"$\"#,##0.00\\)\n",
    "\n",
    "\"$\"#,##0.00_);\\(\"$\"#,##0.00\\)\n",
    "\n",
    "\"$\"#,##0.00;[Red]\"$\"#,##0.00\n",
    "\n",
    "\"$\"#,##0.00"
   ]
  },
  {
   "cell_type": "code",
   "execution_count": null,
   "metadata": {},
   "outputs": [],
   "source": [
    "def getStringCoord (coord) :\n",
    "    x,y = coord\n",
    "    xl = get_column_letter(x)\n",
    "    coord = \"{0}{1}\".format(xl, str(y))\n",
    "    return coord"
   ]
  },
  {
   "cell_type": "code",
   "execution_count": null,
   "metadata": {},
   "outputs": [],
   "source": [
    "tf =TradeFormat(wb)\n",
    "tf.stupidFormat(ws)\n"
   ]
  },
  {
   "cell_type": "code",
   "execution_count": null,
   "metadata": {},
   "outputs": [],
   "source": []
  },
  {
   "cell_type": "code",
   "execution_count": null,
   "metadata": {},
   "outputs": [],
   "source": []
  },
  {
   "cell_type": "code",
   "execution_count": null,
   "metadata": {},
   "outputs": [],
   "source": []
  },
  {
   "cell_type": "code",
   "execution_count": null,
   "metadata": {},
   "outputs": [],
   "source": []
  },
  {
   "cell_type": "code",
   "execution_count": null,
   "metadata": {},
   "outputs": [],
   "source": []
  },
  {
   "cell_type": "code",
   "execution_count": null,
   "metadata": {},
   "outputs": [],
   "source": [
    "\n",
    "# try :\n",
    "#     ws['A1'].style = '60 % - Accent3'\n",
    "#     a3.style = '80 % - Accent3'\n",
    "# exce?pt ValueError :\n",
    "\n",
    "\n",
    "\n",
    "ws['A1'].fill = PatternFill(start_color='A6A6A6', end_color='A6A6A6', fill_type='solid')\n",
    "ws['A1'].font = Font(color=\"FFFFFF\", size=16)\n",
    "ws['A1'].alignment = Alignment(horizontal=\"center\", vertical=\"center\")\n",
    "        \n",
    "        \n",
    "                "
   ]
  },
  {
   "cell_type": "code",
   "execution_count": null,
   "metadata": {},
   "outputs": [],
   "source": []
  },
  {
   "cell_type": "code",
   "execution_count": null,
   "metadata": {},
   "outputs": [],
   "source": []
  },
  {
   "cell_type": "code",
   "execution_count": null,
   "metadata": {},
   "outputs": [],
   "source": []
  },
  {
   "cell_type": "code",
   "execution_count": null,
   "metadata": {},
   "outputs": [],
   "source": []
  },
  {
   "cell_type": "code",
   "execution_count": null,
   "metadata": {},
   "outputs": [],
   "source": []
  },
  {
   "cell_type": "code",
   "execution_count": null,
   "metadata": {},
   "outputs": [],
   "source": []
  },
  {
   "cell_type": "code",
   "execution_count": null,
   "metadata": {},
   "outputs": [],
   "source": []
  },
  {
   "cell_type": "code",
   "execution_count": null,
   "metadata": {},
   "outputs": [],
   "source": []
  },
  {
   "cell_type": "code",
   "execution_count": null,
   "metadata": {},
   "outputs": [],
   "source": []
  },
  {
   "cell_type": "code",
   "execution_count": null,
   "metadata": {},
   "outputs": [],
   "source": []
  },
  {
   "cell_type": "code",
   "execution_count": null,
   "metadata": {},
   "outputs": [],
   "source": []
  },
  {
   "cell_type": "markdown",
   "metadata": {},
   "source": [
    "### Some utility stuff i will need at some point"
   ]
  },
  {
   "cell_type": "code",
   "execution_count": null,
   "metadata": {},
   "outputs": [],
   "source": [
    "xy = coordinate_from_string('A4') # returns ('A',4)\n",
    "xy"
   ]
  },
  {
   "cell_type": "code",
   "execution_count": null,
   "metadata": {},
   "outputs": [],
   "source": [
    "xy=('C45')\n",
    "col = column_index_from_string(xy[0]) # returns 1\n",
    "col"
   ]
  },
  {
   "cell_type": "code",
   "execution_count": null,
   "metadata": {},
   "outputs": [],
   "source": [
    "xy[1]"
   ]
  },
  {
   "cell_type": "code",
   "execution_count": null,
   "metadata": {},
   "outputs": [],
   "source": []
  },
  {
   "cell_type": "code",
   "execution_count": null,
   "metadata": {},
   "outputs": [],
   "source": []
  },
  {
   "cell_type": "code",
   "execution_count": null,
   "metadata": {},
   "outputs": [],
   "source": []
  },
  {
   "cell_type": "code",
   "execution_count": null,
   "metadata": {},
   "outputs": [],
   "source": [
    "(3,4) + (5,6)"
   ]
  },
  {
   "cell_type": "code",
   "execution_count": null,
   "metadata": {},
   "outputs": [],
   "source": []
  },
  {
   "cell_type": "code",
   "execution_count": null,
   "metadata": {},
   "outputs": [],
   "source": [
    "\n",
    "print(get_column_letter(1))"
   ]
  },
  {
   "cell_type": "code",
   "execution_count": null,
   "metadata": {},
   "outputs": [],
   "source": [
    "def c(icell,  add= None) :\n",
    "    if add :\n",
    "        icell = (icell[0] + add[0], icell[1] + add[1])\n",
    "    return \"{0}{1}\".format(get_column_letter(icell[0]),icell[1])"
   ]
  },
  {
   "cell_type": "code",
   "execution_count": null,
   "metadata": {},
   "outputs": [],
   "source": [
    "a=(4,40)\n",
    "b=(5,5)\n",
    "D = (a[0] + b[0], a[1] + b[1]) \n",
    "D"
   ]
  },
  {
   "cell_type": "code",
   "execution_count": null,
   "metadata": {},
   "outputs": [],
   "source": [
    "c(a,b)\n"
   ]
  },
  {
   "cell_type": "code",
   "execution_count": null,
   "metadata": {},
   "outputs": [],
   "source": [
    "c(D)"
   ]
  },
  {
   "cell_type": "code",
   "execution_count": null,
   "metadata": {},
   "outputs": [],
   "source": []
  },
  {
   "cell_type": "code",
   "execution_count": null,
   "metadata": {},
   "outputs": [],
   "source": []
  },
  {
   "cell_type": "code",
   "execution_count": null,
   "metadata": {},
   "outputs": [],
   "source": []
  },
  {
   "cell_type": "code",
   "execution_count": null,
   "metadata": {},
   "outputs": [],
   "source": []
  },
  {
   "cell_type": "code",
   "execution_count": null,
   "metadata": {},
   "outputs": [],
   "source": []
  }
 ],
 "metadata": {
  "kernelspec": {
   "display_name": "Python 3",
   "language": "python",
   "name": "python3"
  },
  "language_info": {
   "codemirror_mode": {
    "name": "ipython",
    "version": 3
   },
   "file_extension": ".py",
   "mimetype": "text/x-python",
   "name": "python",
   "nbconvert_exporter": "python",
   "pygments_lexer": "ipython3",
   "version": "3.6.5"
  }
 },
 "nbformat": 4,
 "nbformat_minor": 2
}
