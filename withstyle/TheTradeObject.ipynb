{
 "cells": [
  {
   "cell_type": "code",
   "execution_count": null,
   "metadata": {},
   "outputs": [],
   "source": [
    "from IPython.core.display import HTML\n",
    "css = open('../data/style-table.css').read() + open('../data/style-notebook.css').read()\n",
    "HTML('../data/<style>{}</style>'.format(css))"
   ]
  },
  {
   "cell_type": "code",
   "execution_count": null,
   "metadata": {},
   "outputs": [],
   "source": [
    "%config IPCompleter.greedy = True"
   ]
  },
  {
   "cell_type": "code",
   "execution_count": null,
   "metadata": {},
   "outputs": [],
   "source": [
    "import datetime, os\n",
    "\n",
    "\n",
    "from openpyxl import Workbook\n",
    "from openpyxl.drawing.image import Image\n",
    "from openpyxl.utils.dataframe import dataframe_to_rows\n",
    "\n",
    "from journalfiles import JournalFiles\n",
    "import pandas as pd\n",
    "from structjour.pandasutil import DataFrameUtil, InputDataFrame, ToCSV_Ticket as Ticket\n",
    "from structjour.tradeutil import ReqCol, FinReqCol, XLImage, TradeUtil\n",
    "#TradeUtil, FinReqCol, ReqCol, \n",
    "\n",
    "jf=JournalFiles(theDate=datetime.date(2018, 9, 21),infile = 'trades.csv', outdir = 'out/', mydevel=True)\n",
    "jf._printValues()\n",
    "        \n",
    "tkt = Ticket(jf)\n",
    "\n",
    "tu = TradeUtil()\n",
    "trades, jf =tkt.newDFSingleTxPerTicket()\n",
    "# trades = pd.read_csv(jf.inpathfile)\n",
    "\n",
    "idf = InputDataFrame()\n",
    "reqCol = ReqCol()\n",
    "finalReqCol = FinReqCol()\n",
    "\n",
    "DataFrameUtil.checkRequiredInputFields(trades, reqCol.columns)\n",
    "trades = idf.zeroPadTimeStr(trades)\n",
    "trades = trades.sort_values([reqCol.acct, reqCol.ticker, reqCol.time])\n",
    "trades = idf.mkShortsNegative(trades)\n",
    "swingTrade = idf.getOvernightTrades(trades)\n",
    "swingTrade = idf.figureOvernightTransactions(trades)\n",
    "trades = idf.insertOvernightRow(trades,swingTrade)\n",
    "\n",
    "trades = tu.addFinReqCol(trades)\n",
    "newTrades = trades[finalReqCol.columns]\n",
    "newTrades.copy()\n",
    "nt = newTrades.sort_values([finalReqCol.ticker,finalReqCol.acct,  finalReqCol.time])"
   ]
  },
  {
   "cell_type": "code",
   "execution_count": null,
   "metadata": {},
   "outputs": [],
   "source": [
    "nt.head()"
   ]
  },
  {
   "cell_type": "code",
   "execution_count": null,
   "metadata": {},
   "outputs": [],
   "source": [
    "nt = tu.writeShareBalance(nt)\n",
    "nt.head()"
   ]
  },
  {
   "cell_type": "code",
   "execution_count": null,
   "metadata": {},
   "outputs": [],
   "source": [
    "nt = tu.addStartTime(nt)\n",
    "nt.head()"
   ]
  },
  {
   "cell_type": "code",
   "execution_count": null,
   "metadata": {},
   "outputs": [],
   "source": [
    "nt = nt.sort_values([finalReqCol.start, finalReqCol.acct, finalReqCol.time])\n",
    "nt.head()"
   ]
  },
  {
   "cell_type": "code",
   "execution_count": null,
   "metadata": {},
   "outputs": [],
   "source": [
    "nt = tu.addTradeIndex(nt)\n",
    "nt.head()\n"
   ]
  },
  {
   "cell_type": "code",
   "execution_count": null,
   "metadata": {},
   "outputs": [],
   "source": [
    "nt = tu.addTradePL(nt)\n",
    "nt.head()"
   ]
  },
  {
   "cell_type": "code",
   "execution_count": null,
   "metadata": {},
   "outputs": [],
   "source": [
    "nt = tu.addTradeDuration(nt)\n",
    "nt.head()"
   ]
  },
  {
   "cell_type": "code",
   "execution_count": null,
   "metadata": {},
   "outputs": [],
   "source": [
    "nt = tu.addTradeName(nt)\n",
    "nt.head()"
   ]
  },
  {
   "cell_type": "code",
   "execution_count": null,
   "metadata": {},
   "outputs": [],
   "source": [
    "nt=DataFrameUtil.addRows(nt,1)\n",
    "nt.head()"
   ]
  },
  {
   "cell_type": "code",
   "execution_count": null,
   "metadata": {},
   "outputs": [],
   "source": [
    "nt = tu.addSummaryPL(nt)\n",
    "nt.head()"
   ]
  },
  {
   "cell_type": "code",
   "execution_count": null,
   "metadata": {},
   "outputs": [],
   "source": [
    "    \n",
    "ldf=tu.getTradeList(nt)"
   ]
  },
  {
   "cell_type": "code",
   "execution_count": null,
   "metadata": {},
   "outputs": [],
   "source": [
    "ldf[3]\n",
    "df=ldf[3]"
   ]
  },
  {
   "cell_type": "code",
   "execution_count": null,
   "metadata": {},
   "outputs": [],
   "source": [
    "from thetradeobject import SumReqFields\n",
    "\n",
    "from thetradeobject import SumReqFields, TheTradeObject\n",
    "import pandas as pd\n",
    "\n",
    "srf = SumReqFields()\n",
    "\n",
    "\n",
    "tto = TheTradeObject(df)"
   ]
  },
  {
   "cell_type": "code",
   "execution_count": null,
   "metadata": {},
   "outputs": [],
   "source": [
    "tto.runSummary()[['Strategy', 'EntryHead', 'Entry1', 'Entry2', 'ExitHead', 'Exit1', 'Exit2', \n",
    "                  'TargHead', 'Target', 'TargDiff', 'StopHead', 'StopLoss', 'SLDiff', \n",
    "                  'RRHead', 'RR', 'MaxHead', 'MaxLoss', 'Explain', 'Notes']]"
   ]
  },
  {
   "cell_type": "code",
   "execution_count": null,
   "metadata": {},
   "outputs": [],
   "source": [
    "srf.columns\n"
   ]
  },
  {
   "cell_type": "markdown",
   "metadata": {},
   "source": [
    "\n",
    "### Note that the interview stuff will be taken care of during the image insertion allowing the user to do all the review of a tradeafter viewing the chart. The interview stuff will include: 1. strategy  2. brief strategy note  3. target  4. stop loss  5. description of trade.  6. Notes and analysis of the trade"
   ]
  },
  {
   "cell_type": "markdown",
   "metadata": {},
   "source": [
    "### On Second thought, the strategy note, trade explanation and analysis will be left to do in excel. The Gui Version os structjour will implement the review. Otherwise I would have to include some facility for entering multiple sentences in the console app.  Not that difficult but not that helpful when it can be done in Excel wilh all the visuals present."
   ]
  }
 ],
 "metadata": {
  "kernelspec": {
   "display_name": "Python 3",
   "language": "python",
   "name": "python3"
  },
  "language_info": {
   "codemirror_mode": {
    "name": "ipython",
    "version": 3
   },
   "file_extension": ".py",
   "mimetype": "text/x-python",
   "name": "python",
   "nbconvert_exporter": "python",
   "pygments_lexer": "ipython3",
   "version": "3.6.5"
  }
 },
 "nbformat": 4,
 "nbformat_minor": 2
}
