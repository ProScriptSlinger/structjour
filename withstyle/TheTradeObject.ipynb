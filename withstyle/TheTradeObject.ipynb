{
 "cells": [
  {
   "cell_type": "code",
   "execution_count": null,
   "metadata": {},
   "outputs": [],
   "source": [
    "from IPython.core.display import HTML\n",
    "css = open('../data/style-table.css').read() + open('../data/style-notebook.css').read()\n",
    "HTML('../data/<style>{}</style>'.format(css))"
   ]
  },
  {
   "cell_type": "code",
   "execution_count": null,
   "metadata": {},
   "outputs": [],
   "source": [
    "%config IPCompleter.greedy = True"
   ]
  },
  {
   "cell_type": "code",
   "execution_count": null,
   "metadata": {},
   "outputs": [],
   "source": [
    "from thetradeobject import SumReqFields, TheTradeObject\n",
    "from tradestyle import TradeFormat"
   ]
  },
  {
   "cell_type": "code",
   "execution_count": null,
   "metadata": {},
   "outputs": [],
   "source": [
    "import datetime, os\n",
    "\n",
    "\n",
    "from openpyxl import Workbook\n",
    "from openpyxl.drawing.image import Image\n",
    "from openpyxl.utils.dataframe import dataframe_to_rows\n",
    "\n",
    "from journalfiles import JournalFiles\n",
    "import pandas as pd\n",
    "from structjour.pandasutil import DataFrameUtil, InputDataFrame, ToCSV_Ticket as Ticket\n",
    "from structjour.tradeutil import ReqCol, FinReqCol, XLImage, TradeUtil\n",
    "#TradeUtil, FinReqCol, ReqCol, \n",
    "\n",
    "jf=JournalFiles(theDate=datetime.date(2018, 9, 21),infile = 'trades.csv', outdir = 'out/', mydevel=True)\n",
    "jf._printValues()\n",
    "        \n",
    "tkt = Ticket(jf)\n",
    "\n",
    "tu = TradeUtil()\n",
    "trades, jf =tkt.newDFSingleTxPerTicket()\n",
    "# trades = pd.read_csv(jf.inpathfile)\n",
    "\n",
    "idf = InputDataFrame()\n",
    "reqCol = ReqCol()\n",
    "finalReqCol = FinReqCol()"
   ]
  },
  {
   "cell_type": "code",
   "execution_count": null,
   "metadata": {},
   "outputs": [],
   "source": [
    "DataFrameUtil.checkRequiredInputFields(trades, reqCol.columns)\n",
    "trades = idf.zeroPadTimeStr(trades)\n",
    "trades = trades.sort_values([reqCol.acct, reqCol.ticker, reqCol.time])\n",
    "trades = idf.mkShortsNegative(trades)"
   ]
  },
  {
   "cell_type": "code",
   "execution_count": null,
   "metadata": {},
   "outputs": [],
   "source": [
    "swingTrade = idf.getOvernightTrades(trades)"
   ]
  },
  {
   "cell_type": "code",
   "execution_count": null,
   "metadata": {},
   "outputs": [],
   "source": [
    "swingTrade = idf.figureOvernightTransactions(trades)\n",
    "trades = idf.insertOvernightRow(trades,swingTrade)"
   ]
  },
  {
   "cell_type": "code",
   "execution_count": null,
   "metadata": {},
   "outputs": [],
   "source": [
    "trades = tu.addFinReqCol(trades)\n",
    "newTrades = trades[finalReqCol.columns]\n",
    "newTrades.copy()\n",
    "nt = newTrades.sort_values([finalReqCol.ticker,finalReqCol.acct,  finalReqCol.time])"
   ]
  },
  {
   "cell_type": "code",
   "execution_count": null,
   "metadata": {},
   "outputs": [],
   "source": [
    "nt.head()"
   ]
  },
  {
   "cell_type": "code",
   "execution_count": null,
   "metadata": {},
   "outputs": [],
   "source": [
    "nt = tu.writeShareBalance(nt)\n",
    "nt.head()"
   ]
  },
  {
   "cell_type": "code",
   "execution_count": null,
   "metadata": {},
   "outputs": [],
   "source": [
    "nt = tu.addStartTime(nt)\n",
    "nt.head()"
   ]
  },
  {
   "cell_type": "code",
   "execution_count": null,
   "metadata": {},
   "outputs": [],
   "source": [
    "nt = nt.sort_values([finalReqCol.start, finalReqCol.acct, finalReqCol.time])\n",
    "nt.head()"
   ]
  },
  {
   "cell_type": "code",
   "execution_count": null,
   "metadata": {},
   "outputs": [],
   "source": [
    "nt = tu.addTradeIndex(nt)\n",
    "nt.head()\n"
   ]
  },
  {
   "cell_type": "code",
   "execution_count": null,
   "metadata": {},
   "outputs": [],
   "source": [
    "nt = tu.addTradePL(nt)\n",
    "nt.head()"
   ]
  },
  {
   "cell_type": "code",
   "execution_count": null,
   "metadata": {},
   "outputs": [],
   "source": [
    "nt = tu.addTradeDuration(nt)\n",
    "nt.head()"
   ]
  },
  {
   "cell_type": "code",
   "execution_count": null,
   "metadata": {},
   "outputs": [],
   "source": [
    "nt = tu.addTradeName(nt)\n",
    "nt.head()"
   ]
  },
  {
   "cell_type": "code",
   "execution_count": null,
   "metadata": {},
   "outputs": [],
   "source": [
    "nt=DataFrameUtil.addRows(nt,1)\n",
    "nt.head()"
   ]
  },
  {
   "cell_type": "code",
   "execution_count": null,
   "metadata": {},
   "outputs": [],
   "source": [
    "nt = tu.addSummaryPL(nt)\n",
    "nt.head()"
   ]
  },
  {
   "cell_type": "code",
   "execution_count": null,
   "metadata": {},
   "outputs": [],
   "source": [
    "    \n",
    "ldf=tu.getTradeList(nt)"
   ]
  },
  {
   "cell_type": "code",
   "execution_count": null,
   "metadata": {},
   "outputs": [],
   "source": [
    "ldf[3]\n",
    "df=ldf[3]"
   ]
  },
  {
   "cell_type": "code",
   "execution_count": null,
   "metadata": {},
   "outputs": [],
   "source": [
    "dframe = DataFrameUtil.addRows(nt, 2)\n"
   ]
  },
  {
   "cell_type": "markdown",
   "metadata": {},
   "source": [
    "### Skipping a bunch here- all extra(?)"
   ]
  },
  {
   "cell_type": "code",
   "execution_count": null,
   "metadata": {},
   "outputs": [],
   "source": [
    "topMargin = 10\n",
    "newdf = DataFrameUtil.createDf(dframe,  topMargin)\n",
    "newdf"
   ]
  },
  {
   "cell_type": "code",
   "execution_count": null,
   "metadata": {},
   "outputs": [],
   "source": [
    "insertsize = 25\n",
    "dframe = newdf.append(dframe, ignore_index = True)\n",
    "dframe"
   ]
  },
  {
   "cell_type": "code",
   "execution_count": null,
   "metadata": {},
   "outputs": [],
   "source": [
    "#Add rows and append each trade, leaving space for an image. Create a list of names and rows numbers \n",
    "# to place images within the excel file.\n",
    "# First, prepare the image names and the locations to place the images Save it in \n",
    "# imageLocation each entry [rowNum, shortName, name, timeOfTrade, durationOfTrade]\n",
    "imageLocation = list()\n",
    "response = input(\"Would you like to enter strategy names, targets and stops?\")\n",
    "interview = True if response.lower().startswith('y') else False\n",
    "for tdf in ldf :\n",
    "    imageName='{0}_{1}_{2}_{3}.jpeg'.format (tdf[finalReqCol.tix].unique()[-1].replace(' ',''), \n",
    "           tdf[finalReqCol.name].unique()[-1].replace(' ','-'),\n",
    "           tdf[finalReqCol.start].unique()[-1],\n",
    "           tdf[finalReqCol.dur].unique()[-1])\n",
    "\n",
    "    # TODO handle empty string in the tdf\n",
    "    imageLocation.append([len(tdf) + len(dframe) + 2, \n",
    "                          tdf.Tindex.unique()[0].replace(' ', '') + '.jpeg',\n",
    "                          imageName,\n",
    "                          tdf.Start.unique()[-1],\n",
    "                        tdf.Duration.unique()[-1]])\n",
    "    print(len(tdf) + len(dframe) + 2)\n",
    "\n",
    "    dframe = dframe.append(tdf, ignore_index = True)\n",
    "    dframe = DataFrameUtil.addRows(dframe, insertsize)\n",
    "    print(len(dframe))"
   ]
  },
  {
   "cell_type": "code",
   "execution_count": null,
   "metadata": {},
   "outputs": [],
   "source": [
    "imageLocation"
   ]
  },
  {
   "cell_type": "code",
   "execution_count": null,
   "metadata": {},
   "outputs": [],
   "source": [
    "nt = dframe\n",
    "\n",
    "\n",
    "wb = Workbook()\n",
    "ws = wb.active\n",
    "for r in dataframe_to_rows(nt, index=False, header=False):\n",
    "    ws.append(r)\n",
    "\n",
    "for name, cell  in zip(nt.columns, ws[topMargin]) :\n",
    "    cell.value = name\n",
    "    \n",
    "XL = XLImage()\n",
    "         "
   ]
  },
  {
   "cell_type": "code",
   "execution_count": null,
   "metadata": {},
   "outputs": [],
   "source": [
    "srf = SumReqFields()\n",
    "tradeSummaries = list()\n",
    "tf = TradeFormat(wb)\n",
    "assert (len(ldf) == len(imageLocation))\n",
    "     "
   ]
  },
  {
   "cell_type": "code",
   "execution_count": null,
   "metadata": {},
   "outputs": [],
   "source": [
    "for loc, tdf in zip(imageLocation, ldf) :\n",
    "#     print('Copy an image into the clipboard for {0} beginning {1}, and lasting {2}'.format(loc[1], loc[2], loc[3]))\n",
    "    img = XL.getAndResizeImage(loc[2], jf.outdir)\n",
    "    cellname = 'J' + str(loc[0])\n",
    "    ws.add_image(img, cellname)\n",
    "    \n",
    "    #Put together the summary info and interview the trader\n",
    "    tto=TheTradeObject(tdf, interview)\n",
    "    tto.runSummary()\n",
    "    tradeSummaries.append(tto)\n",
    "    \n",
    "    #Place the format shapes/styles in the worksheet\n",
    "    tf.formatTrade(ws, anchor=(1, loc[0]))"
   ]
  },
  {
   "cell_type": "code",
   "execution_count": null,
   "metadata": {},
   "outputs": [],
   "source": []
  },
  {
   "cell_type": "code",
   "execution_count": null,
   "metadata": {},
   "outputs": [],
   "source": []
  },
  {
   "cell_type": "code",
   "execution_count": null,
   "metadata": {},
   "outputs": [],
   "source": []
  },
  {
   "cell_type": "code",
   "execution_count": null,
   "metadata": {},
   "outputs": [],
   "source": [
    "# srf = SumReqFields()\n",
    "# tradeSummaries = list()\n",
    "# assert (len(ldf) == len(imageLocation))"
   ]
  },
  {
   "cell_type": "code",
   "execution_count": null,
   "metadata": {},
   "outputs": [],
   "source": [
    "# for loc, tdf in zip(imageLocation, ldf) :\n",
    "#     print (loc)\n",
    "# #     print('Copy an image into the clipboard for {0} beginning {1}, and lasting {2}'.format(loc[1], loc[2], loc[3]))\n",
    "#     img = XL.getAndResizeImage(loc[2], jf.outdir)\n",
    "#     cellname = 'J' + str(loc[0])\n",
    "#     ws.add_image(img, cellname)\n",
    "#     tto=TheTradeObject(df)\n",
    "#     tto.runSummary()\n",
    "#     tradeSummaries.append(tto)\n",
    "#     tf.formatTrade(ws, anchor=(1, loc[0]))\n",
    "# print(\"Done with interview\")\n",
    "    "
   ]
  },
  {
   "cell_type": "code",
   "execution_count": null,
   "metadata": {},
   "outputs": [],
   "source": [
    "# tradeSummaries[0].TheTrade['Entry1']"
   ]
  },
  {
   "cell_type": "code",
   "execution_count": null,
   "metadata": {},
   "outputs": [],
   "source": []
  },
  {
   "cell_type": "code",
   "execution_count": null,
   "metadata": {},
   "outputs": [],
   "source": [
    "jf.mkOutdir() \n",
    "saveName=jf.outpathfile\n",
    "count=1\n",
    "while True :\n",
    "    try :\n",
    "        wb.save(saveName)\n",
    "    except PermissionError as ex :\n",
    "        print(ex)\n",
    "        print(\"Failed to create file {0}.{1}\".format(saveName, ex))\n",
    "        print(\"Images from the clipboard were saved  in {0}\".format(jf.outdir))\n",
    "        (nm, ext) = os.path.splitext(jf.outpathfile)\n",
    "        saveName = \"{0}({1}){2}\".format(nm,count,ext)\n",
    "        print(\"Will try to save as {0}\".format(saveName))\n",
    "        count=count+1\n",
    "        if count==6:\n",
    "            print(\"Giving up. PermissionError\")\n",
    "            raise (PermissionError(\"Failed to create file {0}\".format(saveName)))\n",
    "        continue\n",
    "    except Exception as ex:\n",
    "        print (ex)\n",
    "    break\n",
    "print(\"Done!\")"
   ]
  },
  {
   "cell_type": "code",
   "execution_count": null,
   "metadata": {},
   "outputs": [],
   "source": []
  },
  {
   "cell_type": "code",
   "execution_count": null,
   "metadata": {},
   "outputs": [],
   "source": []
  },
  {
   "cell_type": "code",
   "execution_count": null,
   "metadata": {},
   "outputs": [],
   "source": []
  },
  {
   "cell_type": "code",
   "execution_count": null,
   "metadata": {},
   "outputs": [],
   "source": [
    "srf.columns\n"
   ]
  },
  {
   "cell_type": "markdown",
   "metadata": {},
   "source": [
    "\n",
    "### Note that the interview stuff will be taken care of during the image insertion allowing the user to do all the review of a tradeafter viewing the chart. The interview stuff will include: 1. strategy  2. brief strategy note  3. target  4. stop loss  5. description of trade.  6. Notes and analysis of the trade"
   ]
  },
  {
   "cell_type": "markdown",
   "metadata": {},
   "source": [
    "### On Second thought, the strategy note, trade explanation and analysis will be left to do in excel. The Gui Version os structjour will implement the review. Otherwise I would have to include some facility for entering multiple sentences in the console app.  Not that difficult but not that helpful when it can be done in Excel wilh all the visuals present."
   ]
  }
 ],
 "metadata": {
  "kernelspec": {
   "display_name": "Python 3",
   "language": "python",
   "name": "python3"
  },
  "language_info": {
   "codemirror_mode": {
    "name": "ipython",
    "version": 3
   },
   "file_extension": ".py",
   "mimetype": "text/x-python",
   "name": "python",
   "nbconvert_exporter": "python",
   "pygments_lexer": "ipython3",
   "version": "3.6.5"
  }
 },
 "nbformat": 4,
 "nbformat_minor": 2
}
