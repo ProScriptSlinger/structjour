{
 "cells": [
  {
   "cell_type": "code",
   "execution_count": null,
   "metadata": {},
   "outputs": [],
   "source": [
    "from IPython.core.display import HTML\n",
    "css = open('../data/style-table.css').read() + open('../data/style-notebook.css').read()\n",
    "HTML('../data/<style>{}</style>'.format(css))"
   ]
  },
  {
   "cell_type": "code",
   "execution_count": null,
   "metadata": {},
   "outputs": [],
   "source": [
    "%config IPCompleter.greedy = True"
   ]
  },
  {
   "cell_type": "code",
   "execution_count": null,
   "metadata": {},
   "outputs": [],
   "source": [
    "import datetime, os\n",
    "\n",
    "\n",
    "from openpyxl import Workbook\n",
    "from openpyxl.drawing.image import Image\n",
    "from openpyxl.utils.dataframe import dataframe_to_rows\n",
    "\n",
    "from journalfiles import JournalFiles\n",
    "import pandas as pd\n",
    "from structjour.pandasutil import DataFrameUtil, InputDataFrame, ToCSV_Ticket as Ticket\n",
    "from structjour.tradeutil import ReqCol, FinReqCol, XLImage, TradeUtil\n",
    "#TradeUtil, FinReqCol, ReqCol, \n",
    "\n",
    "jf=JournalFiles(theDate=datetime.date(2018, 9, 11), outdir = 'out/', mydevel=True)\n",
    "jf._printValues()\n",
    "        \n",
    "tkt = Ticket(jf)\n",
    "\n",
    "tu = TradeUtil()\n",
    "trades, jf =tkt.newDFSingleTxPerTicket()\n",
    "# trades = pd.read_csv(jf.inpathfile)\n",
    "\n",
    "idf = InputDataFrame()\n",
    "reqCol = ReqCol()\n",
    "finalReqCol = FinReqCol()\n",
    "\n",
    "DataFrameUtil.checkRequiredInputFields(trades, reqCol.columns)\n",
    "trades = idf.zeroPadTimeStr(trades)\n",
    "trades = trades.sort_values([reqCol.acct, reqCol.ticker, reqCol.time])\n",
    "trades = idf.mkShortsNegative(trades)\n",
    "swingTrade = idf.getOvernightTrades(trades)\n",
    "swingTrade = idf.figureOvernightTransactions(trades)\n",
    "trades = idf.insertOvernightRow(trades,swingTrade)\n",
    "\n",
    "trades = tu.addFinReqCol(trades)\n",
    "newTrades = trades[finalReqCol.columns]\n",
    "newTrades.copy()\n",
    "nt = newTrades.sort_values([finalReqCol.ticker,finalReqCol.acct,  finalReqCol.time])"
   ]
  },
  {
   "cell_type": "code",
   "execution_count": null,
   "metadata": {},
   "outputs": [],
   "source": [
    "# nt.head()"
   ]
  },
  {
   "cell_type": "code",
   "execution_count": null,
   "metadata": {},
   "outputs": [],
   "source": [
    "nt = tu.writeShareBalance(nt)\n",
    "# nt.head()"
   ]
  },
  {
   "cell_type": "code",
   "execution_count": null,
   "metadata": {},
   "outputs": [],
   "source": [
    "nt = tu.addStartTime(nt)\n",
    "# nt.head()"
   ]
  },
  {
   "cell_type": "code",
   "execution_count": null,
   "metadata": {},
   "outputs": [],
   "source": [
    "nt = nt.sort_values([finalReqCol.start, finalReqCol.acct, finalReqCol.time])\n",
    "# nt.head()"
   ]
  },
  {
   "cell_type": "code",
   "execution_count": null,
   "metadata": {},
   "outputs": [],
   "source": [
    "nt = tu.addTradeIndex(nt)\n",
    "# nt.head()\n"
   ]
  },
  {
   "cell_type": "code",
   "execution_count": null,
   "metadata": {},
   "outputs": [],
   "source": [
    "nt = tu.addTradePL(nt)\n",
    "# nt.head()"
   ]
  },
  {
   "cell_type": "code",
   "execution_count": null,
   "metadata": {},
   "outputs": [],
   "source": [
    "nt = tu.addTradeDuration(nt)\n",
    "# nt.head()"
   ]
  },
  {
   "cell_type": "code",
   "execution_count": null,
   "metadata": {},
   "outputs": [],
   "source": [
    "nt = tu.addTradeName(nt)\n",
    "# nt.head()"
   ]
  },
  {
   "cell_type": "code",
   "execution_count": null,
   "metadata": {},
   "outputs": [],
   "source": [
    "nt=DataFrameUtil.addRows(nt,1)\n",
    "# nt.head()"
   ]
  },
  {
   "cell_type": "code",
   "execution_count": null,
   "metadata": {},
   "outputs": [],
   "source": [
    "nt = tu.addSummaryPL(nt)\n",
    "# nt.head()"
   ]
  },
  {
   "cell_type": "code",
   "execution_count": null,
   "metadata": {},
   "outputs": [],
   "source": [
    "    \n",
    "ldf=tu.getTradeList(nt)"
   ]
  },
  {
   "cell_type": "code",
   "execution_count": null,
   "metadata": {},
   "outputs": [],
   "source": [
    "ldf[0]\n",
    "df=ldf[0]\n",
    "df"
   ]
  },
  {
   "cell_type": "code",
   "execution_count": null,
   "metadata": {},
   "outputs": [],
   "source": [
    "from thetradeobject import SumReqFields\n",
    "\n",
    "from thetradeobject import SumReqFields, TheTradeObject\n",
    "import pandas as pd\n",
    "\n",
    "srf = SumReqFields()"
   ]
  },
  {
   "cell_type": "code",
   "execution_count": null,
   "metadata": {},
   "outputs": [],
   "source": [
    "tto = TheTradeObject(df, interview=True)"
   ]
  },
  {
   "cell_type": "code",
   "execution_count": null,
   "metadata": {},
   "outputs": [],
   "source": []
  },
  {
   "cell_type": "code",
   "execution_count": null,
   "metadata": {},
   "outputs": [],
   "source": [
    "# type(tto.TheTrade.Target)"
   ]
  },
  {
   "cell_type": "code",
   "execution_count": null,
   "metadata": {},
   "outputs": [],
   "source": [
    "#  pd.to_numeric(tto.TheTrade.Target, errors='coerce')"
   ]
  },
  {
   "cell_type": "code",
   "execution_count": null,
   "metadata": {},
   "outputs": [],
   "source": [
    "TheTrade = tto.TheTrade"
   ]
  },
  {
   "cell_type": "code",
   "execution_count": null,
   "metadata": {
    "scrolled": false
   },
   "outputs": [],
   "source": [
    "tto.runSummary()\n",
    "df"
   ]
  },
  {
   "cell_type": "code",
   "execution_count": null,
   "metadata": {},
   "outputs": [],
   "source": [
    "# TheTrade\n",
    "\n"
   ]
  },
  {
   "cell_type": "code",
   "execution_count": null,
   "metadata": {},
   "outputs": [],
   "source": [
    "# TheTrade[['Entry1', 'Entry2', 'Entry3', 'Entry4', 'Entry5', ]]\n"
   ]
  },
  {
   "cell_type": "markdown",
   "metadata": {},
   "source": [
    "### name"
   ]
  },
  {
   "cell_type": "code",
   "execution_count": null,
   "metadata": {},
   "outputs": [],
   "source": []
  },
  {
   "cell_type": "code",
   "execution_count": null,
   "metadata": {},
   "outputs": [],
   "source": [
    "ix = df.index[-1]\n",
    "df.loc[ix]['Name']"
   ]
  },
  {
   "cell_type": "code",
   "execution_count": null,
   "metadata": {},
   "outputs": [],
   "source": [
    "TheTrade[srf.name]=df.loc[ix]['Name']\n",
    "TheTrade"
   ]
  },
  {
   "cell_type": "markdown",
   "metadata": {},
   "source": [
    "### Account"
   ]
  },
  {
   "cell_type": "code",
   "execution_count": null,
   "metadata": {},
   "outputs": [],
   "source": [
    "ix = df.index[-1]\n",
    "df.loc[ix]['Account']"
   ]
  },
  {
   "cell_type": "code",
   "execution_count": null,
   "metadata": {},
   "outputs": [],
   "source": [
    "TheTrade[srf.acct]=\"Live\" if df.loc[ix]['Account'].startswith(\"U\") else \"SIM\"\n",
    "TheTrade"
   ]
  },
  {
   "cell_type": "markdown",
   "metadata": {},
   "source": [
    "### Sum"
   ]
  },
  {
   "cell_type": "code",
   "execution_count": null,
   "metadata": {},
   "outputs": [],
   "source": [
    "ix = df.index[-1]\n",
    "df.loc[ix]['Sum']"
   ]
  },
  {
   "cell_type": "code",
   "execution_count": null,
   "metadata": {},
   "outputs": [],
   "source": [
    "TheTrade[srf.PL]=df.loc[ix]['Sum']\n",
    "TheTrade"
   ]
  },
  {
   "cell_type": "markdown",
   "metadata": {},
   "source": [
    "### start"
   ]
  },
  {
   "cell_type": "code",
   "execution_count": null,
   "metadata": {},
   "outputs": [],
   "source": [
    "ix = df.index[-1]\n",
    "df.loc[ix]['Start']"
   ]
  },
  {
   "cell_type": "code",
   "execution_count": null,
   "metadata": {},
   "outputs": [],
   "source": [
    "TheTrade[srf.start]=df.loc[ix]['Start']\n",
    "TheTrade"
   ]
  },
  {
   "cell_type": "markdown",
   "metadata": {},
   "source": [
    "### Duration"
   ]
  },
  {
   "cell_type": "code",
   "execution_count": null,
   "metadata": {},
   "outputs": [],
   "source": [
    "df.loc[ix]['Duration']\n",
    "time = df.loc[ix][srf.dur]\n",
    "time"
   ]
  },
  {
   "cell_type": "code",
   "execution_count": null,
   "metadata": {},
   "outputs": [],
   "source": [
    "duration = \"{0} hours {1}:{2}\".format(time.seconds // 3600, time.seconds // 60, time.seconds % 60)\n",
    "\n",
    "TheTrade[srf.dur]=duration\n",
    "TheTrade"
   ]
  },
  {
   "cell_type": "markdown",
   "metadata": {},
   "source": [
    "### Strategy and note"
   ]
  },
  {
   "cell_type": "code",
   "execution_count": null,
   "metadata": {},
   "outputs": [],
   "source": [
    "TheTrade.Strategy=\"\"\n",
    "strats = [\"ORB\", \"ABCD\", \"VWAP Reversal\", \"Bull Flag\", \"Fallen ANgel\",\n",
    "      \"VWAP False Breakout\", \"VWAP Reversal\", \"15 Minute Reversal\",\n",
    "      \"VWAP MA trend\", \"Other\", \"Skip\"]\n",
    "def getStrategy() :\n",
    "\n",
    "\n",
    "    s=\"What was the strategy?\" \n",
    "\n",
    "    for i, strat in zip(range(1, len(strats)+1), strats) :\n",
    "        s = \"{0}\\n     {1}. {2}\".format(s, i, strat)\n",
    "\n",
    "    s = s + \"\\n\"\n",
    "    #     print(i, strat)\n",
    "    #     strategies = strategies + \"\"\n",
    "    while True:\n",
    "        try :\n",
    "            reply = input(s)\n",
    "            ireply = int(reply)\n",
    "            if ireply < 1 or ireply > len(strats) :\n",
    "                raise ValueError\n",
    "            break\n",
    "        except ValueError:\n",
    "            print(\"Please enter a number between 1 and {0}\".format(len(strats)))\n",
    "            continue\n",
    "    return ireply -1\n",
    "\n",
    "reply = input (\"Would you like to enter the strategy name?\")\n",
    "if reply.lower().startswith(\"y\") :\n",
    "    reply = getStrategy()\n",
    "    \n",
    "\n",
    "    if reply == 9 :\n",
    "        response = input(\"What do you want to call the strategy?\")\n",
    "        TheTrade.Strategy = response\n",
    "    elif reply == 10 :\n",
    "        pass\n",
    "    elif reply > -1 and reply < len(strats):\n",
    "        TheTrade.Strategy=strats[reply]\n",
    "    else :\n",
    "        print(\"WTF?   \", reply)\n",
    "        raise ValueError\n",
    "TheTrade"
   ]
  },
  {
   "cell_type": "markdown",
   "metadata": {},
   "source": [
    "###  Shares\n"
   ]
  },
  {
   "cell_type": "code",
   "execution_count": null,
   "metadata": {},
   "outputs": [],
   "source": [
    "ix0 = df.index[0]\n",
    "side = df.loc[ix0]['Side']"
   ]
  },
  {
   "cell_type": "code",
   "execution_count": null,
   "metadata": {},
   "outputs": [],
   "source": [
    "side\n"
   ]
  },
  {
   "cell_type": "code",
   "execution_count": null,
   "metadata": {},
   "outputs": [],
   "source": [
    "endSide=df.loc[ix]['Side']\n",
    "endSide"
   ]
  },
  {
   "cell_type": "code",
   "execution_count": null,
   "metadata": {},
   "outputs": [],
   "source": []
  },
  {
   "cell_type": "code",
   "execution_count": null,
   "metadata": {},
   "outputs": [],
   "source": []
  },
  {
   "cell_type": "code",
   "execution_count": null,
   "metadata": {},
   "outputs": [],
   "source": []
  },
  {
   "cell_type": "code",
   "execution_count": null,
   "metadata": {},
   "outputs": [],
   "source": []
  },
  {
   "cell_type": "code",
   "execution_count": null,
   "metadata": {},
   "outputs": [],
   "source": []
  },
  {
   "cell_type": "code",
   "execution_count": null,
   "metadata": {},
   "outputs": [],
   "source": [
    "if side.startswith(\"B\"):\n",
    "    shares = df[srf.bal].max()\n",
    "else :\n",
    "    shares = df[frcsrf.bal].min()\n",
    "    \n",
    "TheTrade.Shares = \"{0} shares\".format(shares)\n",
    "TheTrade"
   ]
  },
  {
   "cell_type": "markdown",
   "metadata": {},
   "source": [
    "### Market Value"
   ]
  },
  {
   "cell_type": "code",
   "execution_count": null,
   "metadata": {},
   "outputs": [],
   "source": [
    "\n"
   ]
  },
  {
   "cell_type": "code",
   "execution_count": null,
   "metadata": {},
   "outputs": [],
   "source": [
    "if side.startswith(\"B\"):\n",
    "    shares = df[frc.bal].max()\n",
    "else :\n",
    "    shares = df[frc.bal].min()\n",
    "shares * df[frc.price]"
   ]
  },
  {
   "cell_type": "code",
   "execution_count": null,
   "metadata": {},
   "outputs": [],
   "source": [
    " mkt = shares * df.loc[ix0][frc.price]\n",
    "TheTrade['MktVal'] = mkt\n",
    "TheTrade"
   ]
  },
  {
   "cell_type": "markdown",
   "metadata": {},
   "source": [
    "### Entries"
   ]
  },
  {
   "cell_type": "code",
   "execution_count": null,
   "metadata": {},
   "outputs": [],
   "source": [
    "df"
   ]
  },
  {
   "cell_type": "code",
   "execution_count": null,
   "metadata": {},
   "outputs": [],
   "source": [
    "B=list()\n",
    "S=list()\n",
    "\n",
    "# side = \"Long\" if df.loc[ix0][frc.side].startswith('B') else None\n",
    "# side"
   ]
  },
  {
   "cell_type": "code",
   "execution_count": null,
   "metadata": {},
   "outputs": [],
   "source": [
    "for i, row in df.iterrows() :\n",
    "    if(row[frc.side]).startswith('B') :\n",
    "        B.append(row[frc.price])\n",
    "    else :\n",
    "        S.append(row[frc.price])\n",
    "S"
   ]
  },
  {
   "cell_type": "code",
   "execution_count": null,
   "metadata": {},
   "outputs": [],
   "source": [
    "TheTrade['EntriesHeader'] = \"Entries\"\n",
    "if len(B) > 5 :\n",
    "    more = len(B) - 5\n",
    "    TheTrade.Entries5 =  \"Plus {} more.\".format(more)\n",
    "for i, price in zip(range (len(B)), B) :\n",
    "    col = \"Entries\" + str(i+1)\n",
    "    TheTrade[col] = price\n",
    "    \n",
    "TheTrade\n",
    "                    \n",
    "                    "
   ]
  },
  {
   "cell_type": "code",
   "execution_count": null,
   "metadata": {},
   "outputs": [],
   "source": [
    "TheTrade['ExitsHeader'] = \"Exits\"\n",
    "if len(S) > 5 :\n",
    "    more = len(S) - 5\n",
    "    TheTrade.Entries5 =  \"Plus {} more.\".format(more)\n",
    "for i, price in zip(range (len(S)), S) :\n",
    "    col = \"Exits\" + str(i+1)\n",
    "    TheTrade[col] = price\n",
    "    \n",
    "TheTrade"
   ]
  },
  {
   "cell_type": "markdown",
   "metadata": {},
   "source": [
    "### Target Stop Description and Notes"
   ]
  },
  {
   "cell_type": "code",
   "execution_count": null,
   "metadata": {},
   "outputs": [],
   "source": [
    "TheTrade.TargHead = \"Target\"\n",
    "TheTrade.StopHead = \"Stop\"\n",
    "TheTrade.RRHead = \"R:R\"\n",
    "TheTrade.MaxHead = \"Max Loss\"\n",
    "TheTrade[[\"Entries1\", \"Entries2\", \"Exits1\", \"Exits2\"]]"
   ]
  },
  {
   "cell_type": "code",
   "execution_count": null,
   "metadata": {},
   "outputs": [],
   "source": [
    "def enterTarget() :\n",
    "    target = 0\n",
    "    while True:\n",
    "        try :\n",
    "            targ = input(\"What was your target? \")\n",
    "            if targ.lower().startswith('q') :\n",
    "                target = 0\n",
    "                break\n",
    "            target = float(targ)\n",
    "        except ValueError :\n",
    "            print('''\n",
    "            Please enter a number or 'q' to skip\n",
    "            ''')\n",
    "            target = 0\n",
    "            \n",
    "            continue\n",
    "        break\n",
    "    return target\n",
    "target = enterTarget()\n",
    "TheTrade.Target = target\n",
    "TheTrade.TargDiff = target - TheTrade.Entries1"
   ]
  },
  {
   "cell_type": "code",
   "execution_count": null,
   "metadata": {},
   "outputs": [],
   "source": [
    "\n",
    "TheTrade[['Entries1', 'Target', 'TargDiff', 'StopLoss' , 'SLDiff', 'MaxLoss']]"
   ]
  },
  {
   "cell_type": "code",
   "execution_count": null,
   "metadata": {},
   "outputs": [],
   "source": [
    "def enterStop() :\n",
    "    stop = 0\n",
    "    while True:\n",
    "        try :\n",
    "            stop = input(\"What was your Stop Loss? \")\n",
    "            if stop.lower().startswith('q') :\n",
    "                stop = 0\n",
    "                break\n",
    "            stop = float(stop)\n",
    "        except ValueError :\n",
    "            print('''\n",
    "            Please enter a number or 'q' to skip\n",
    "            ''')\n",
    "            continue\n",
    "        break\n",
    "    return stop\n",
    "stop = enterStop()\n",
    "TheTrade.StopLoss = stop\n",
    "TheTrade.SLDiff = stop - TheTrade.Entries1"
   ]
  },
  {
   "cell_type": "markdown",
   "metadata": {},
   "source": [
    "### Consider placing this bit of code with the code to get the shares data or saving the shares data seperately as a float as we also need the stop loss diff (SLDiff)"
   ]
  },
  {
   "cell_type": "code",
   "execution_count": null,
   "metadata": {},
   "outputs": [],
   "source": [
    "x=TheTrade.Shares.str.split()\n",
    "x = float(x[0][0])\n",
    "maxloss = TheTrade.SLDiff * x\n",
    "maxloss"
   ]
  },
  {
   "cell_type": "code",
   "execution_count": null,
   "metadata": {},
   "outputs": [],
   "source": [
    "\n",
    "TheTrade.MaxLoss = stop\n",
    "TheTrade.RR = stop / target\n",
    "TheTrade[['Entries1', 'Target', 'TargDiff', 'StopLoss' , 'SLDiff', 'MaxLoss']]"
   ]
  },
  {
   "cell_type": "code",
   "execution_count": null,
   "metadata": {},
   "outputs": [],
   "source": [
    "TheTrade[['Entries1', 'Target', 'TargDiff', 'StopLoss' , 'SLDiff', 'RR', 'MaxLoss']]"
   ]
  },
  {
   "cell_type": "markdown",
   "metadata": {},
   "source": [
    "\n",
    "### Note that the interview stuff will be taken care of during the image insertion allowing the user to do all the review of a tradeafter viewing the chart. The interview stuff will include: 1. strategy  2. brief strategy note  3. target  4. stop loss  5. description of trade.  6. Notes and analysis of the trade"
   ]
  },
  {
   "cell_type": "markdown",
   "metadata": {},
   "source": [
    "### On Second thought, the strategy note, trade explanation and analysis will be left to do in excel. The Gui Version os structjour will implement the review. Otherwise I would have to include some facility for entering multiple sentences in the console app.  Not that difficult but not that helpful when it can be done in Excel wilh all the visuals present."
   ]
  },
  {
   "cell_type": "code",
   "execution_count": null,
   "metadata": {},
   "outputs": [],
   "source": [
    "s=\"0\"\n",
    "f=float(s)\n",
    "f"
   ]
  }
 ],
 "metadata": {
  "kernelspec": {
   "display_name": "Python 3",
   "language": "python",
   "name": "python3"
  },
  "language_info": {
   "codemirror_mode": {
    "name": "ipython",
    "version": 3
   },
   "file_extension": ".py",
   "mimetype": "text/x-python",
   "name": "python",
   "nbconvert_exporter": "python",
   "pygments_lexer": "ipython3",
   "version": "3.6.5"
  }
 },
 "nbformat": 4,
 "nbformat_minor": 2
}
