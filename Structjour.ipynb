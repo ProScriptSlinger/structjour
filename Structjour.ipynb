{
 "cells": [
  {
   "cell_type": "code",
   "execution_count": 1,
   "metadata": {},
   "outputs": [
    {
     "name": "stdout",
     "output_type": "stream",
     "text": [
      "hello dataframe\n"
     ]
    }
   ],
   "source": [
    "import datetime, os\n",
    "\n",
    "from PIL import Image as PILImage\n",
    "from PIL import ImageGrab\n",
    "from openpyxl import Workbook\n",
    "from openpyxl.drawing.image import Image\n",
    "from openpyxl.utils.dataframe import dataframe_to_rows\n",
    "\n",
    "from journalfiles import JournalFiles\n",
    "import pandas as pd\n",
    "from structjour.pandasutil import DataFrameUtil, InputDataFrame"
   ]
  },
  {
   "cell_type": "code",
   "execution_count": 2,
   "metadata": {},
   "outputs": [
    {
     "data": {
      "text/html": [
       "<style>body {\n",
       "    margin: 0;\n",
       "    font-family: Helvetica;\n",
       "}\n",
       "table.dataframe {\n",
       "    border-collapse: collapse;\n",
       "    border: none;\n",
       "}\n",
       "table.dataframe tr {\n",
       "    border: none;\n",
       "}\n",
       "table.dataframe td, table.dataframe th {\n",
       "    margin: 0;\n",
       "    border: 1px solid white;\n",
       "    padding-left: 0.25em;\n",
       "    padding-right: 0.25em;\n",
       "}\n",
       "table.dataframe th:not(:empty) {\n",
       "    background-color: #fec;\n",
       "    text-align: left;\n",
       "    font-weight: normal;\n",
       "}\n",
       "table.dataframe tr:nth-child(2) th:empty {\n",
       "    border-left: none;\n",
       "    border-right: 1px dashed #888;\n",
       "}\n",
       "table.dataframe td {\n",
       "    border: 2px solid #ccf;\n",
       "    background-color: #f4f4ff;\n",
       "}\n",
       "h3 {\n",
       "    color: white;\n",
       "    background-color: black;\n",
       "    padding: 0.5em;\n",
       "}\n",
       "</style>"
      ],
      "text/plain": [
       "<IPython.core.display.HTML object>"
      ]
     },
     "execution_count": 2,
     "metadata": {},
     "output_type": "execute_result"
    }
   ],
   "source": [
    "from IPython.core.display import HTML\n",
    "css = open('data/style-table.css').read() + open('data/style-notebook.css').read()\n",
    "HTML('<style>{}</style>'.format(css))"
   ]
  },
  {
   "cell_type": "code",
   "execution_count": 3,
   "metadata": {},
   "outputs": [
    {
     "name": "stdout",
     "output_type": "stream",
     "text": [
      "indir:              data\n",
      "infile:             TradesWithHolds.csv\n",
      "inpathfile:         data\\TradesWithHolds.csv\n",
      "\n",
      "outdir:             out\n",
      "outfile:            Trades_Monday_0903.xlsx\n",
      "outpathfile:        out\\Trades_Monday_0903.xlsx\n",
      "theDate:            Monday, September 03, 18\n"
     ]
    }
   ],
   "source": [
    "# jf = JournalFiles(theDate=datetime.date(2018, 8,31), outdir = \"out\", mydevel=True)\n",
    "jf = JournalFiles(indir='data', infile='TradesWithHolds.csv', outdir = \"out\", mydevel=True)\n",
    "\n",
    "jf._printValues()"
   ]
  },
  {
   "cell_type": "code",
   "execution_count": 4,
   "metadata": {},
   "outputs": [
    {
     "data": {
      "text/plain": [
       "<structjour.pandasutil.InputDataFrame at 0x5d4c150>"
      ]
     },
     "execution_count": 4,
     "metadata": {},
     "output_type": "execute_result"
    }
   ],
   "source": [
    "trades = pd.read_csv(jf.inpathfile)\n",
    "\n",
    "idf = InputDataFrame()\n",
    "idf"
   ]
  },
  {
   "cell_type": "code",
   "execution_count": 5,
   "metadata": {},
   "outputs": [
    {
     "data": {
      "text/plain": [
       "{'time': 'Time',\n",
       " 'ticker': 'Symb',\n",
       " 'side': 'Side',\n",
       " 'price': 'Price',\n",
       " 'shares': 'Qty',\n",
       " 'acct': 'Account',\n",
       " 'PL': 'P / L'}"
      ]
     },
     "execution_count": 5,
     "metadata": {},
     "output_type": "execute_result"
    }
   ],
   "source": [
    "idf.reqCol"
   ]
  },
  {
   "cell_type": "code",
   "execution_count": 6,
   "metadata": {},
   "outputs": [
    {
     "name": "stdout",
     "output_type": "stream",
     "text": [
      "got it\n"
     ]
    }
   ],
   "source": [
    "reqCol = idf.reqCol.values()\n",
    "\n",
    "DataFrameUtil.checkRequiredInputFields(trades, reqCol)\n",
    "\n",
    "trades = idf.zeroPadTimeStr(trades)\n",
    "trades = trades.sort_values(['Symb', 'Time'])\n",
    "trades = idf.mkShortsNegative(trades)"
   ]
  },
  {
   "cell_type": "code",
   "execution_count": 7,
   "metadata": {},
   "outputs": [
    {
     "data": {
      "text/plain": [
       "[{'ticker': 'IZEA', 'shares': 3923, 'before': 0, 'after': 0},\n",
       " {'ticker': 'MU', 'shares': -750, 'before': 0, 'after': 0}]"
      ]
     },
     "execution_count": 7,
     "metadata": {},
     "output_type": "execute_result"
    }
   ],
   "source": [
    "swingTrade = idf.getOvernightTrades(trades)\n",
    "swingTrade"
   ]
  },
  {
   "cell_type": "code",
   "execution_count": 8,
   "metadata": {},
   "outputs": [
    {
     "name": "stdout",
     "output_type": "stream",
     "text": [
      "{'ticker': 'IZEA', 'shares': 3923, 'before': 0, 'after': 0}\n",
      "There is an unbalanced amount of shares of IZEA in the amount of 3923\n",
      "How many shares of IZEA are you holding now? (Enter for 3923)\n",
      "That works.\n",
      "{'ticker': 'MU', 'shares': -750, 'before': 0, 'after': 0}\n",
      "There is an unbalanced amount of shares of MU in the amount of -750\n",
      "How many shares of MU are you holding now? (Enter for -750)\n",
      "That works.\n"
     ]
    }
   ],
   "source": [
    "swingTrade = idf.figureOvernightTransactions(trades)"
   ]
  },
  {
   "cell_type": "code",
   "execution_count": 9,
   "metadata": {},
   "outputs": [
    {
     "name": "stdout",
     "output_type": "stream",
     "text": [
      "Got IZEA with the balance 0, before 0 and after 3923\n",
      "Are we good?\n",
      "Got MU with the balance 0, before 0 and after -750\n",
      "Are we good?\n"
     ]
    },
    {
     "data": {
      "text/html": [
       "<div>\n",
       "<style scoped>\n",
       "    .dataframe tbody tr th:only-of-type {\n",
       "        vertical-align: middle;\n",
       "    }\n",
       "\n",
       "    .dataframe tbody tr th {\n",
       "        vertical-align: top;\n",
       "    }\n",
       "\n",
       "    .dataframe thead th {\n",
       "        text-align: right;\n",
       "    }\n",
       "</style>\n",
       "<table border=\"1\" class=\"dataframe\">\n",
       "  <thead>\n",
       "    <tr style=\"text-align: right;\">\n",
       "      <th></th>\n",
       "      <th>Time</th>\n",
       "      <th>Symb</th>\n",
       "      <th>Side</th>\n",
       "      <th>Price</th>\n",
       "      <th>Qty</th>\n",
       "      <th>Route</th>\n",
       "      <th>Broker</th>\n",
       "      <th>Account</th>\n",
       "      <th>Type</th>\n",
       "      <th>Cloid</th>\n",
       "      <th>P / L</th>\n",
       "      <th>Unnamed: 11</th>\n",
       "    </tr>\n",
       "  </thead>\n",
       "  <tbody>\n",
       "    <tr>\n",
       "      <th>0</th>\n",
       "      <td>09:44:54</td>\n",
       "      <td>IZEA</td>\n",
       "      <td>B</td>\n",
       "      <td>1.63</td>\n",
       "      <td>6016</td>\n",
       "      <td>SMRT</td>\n",
       "      <td>NaN</td>\n",
       "      <td>TRIB5621</td>\n",
       "      <td>Margin</td>\n",
       "      <td>AUTO</td>\n",
       "      <td>0</td>\n",
       "      <td>NaN</td>\n",
       "    </tr>\n",
       "    <tr>\n",
       "      <th>1</th>\n",
       "      <td>09:45:21</td>\n",
       "      <td>IZEA</td>\n",
       "      <td>B</td>\n",
       "      <td>1.59</td>\n",
       "      <td>1830</td>\n",
       "      <td>SMRT</td>\n",
       "      <td>NaN</td>\n",
       "      <td>TRIB5621</td>\n",
       "      <td>Margin</td>\n",
       "      <td>AUTO</td>\n",
       "      <td>0</td>\n",
       "      <td>NaN</td>\n",
       "    </tr>\n",
       "    <tr>\n",
       "      <th>2</th>\n",
       "      <td>09:47:48</td>\n",
       "      <td>IZEA</td>\n",
       "      <td>S</td>\n",
       "      <td>1.65</td>\n",
       "      <td>-3923</td>\n",
       "      <td>SMRT</td>\n",
       "      <td>NaN</td>\n",
       "      <td>TRIB5621</td>\n",
       "      <td>Margin</td>\n",
       "      <td>AUTO</td>\n",
       "      <td>115.06</td>\n",
       "      <td>NaN</td>\n",
       "    </tr>\n",
       "    <tr>\n",
       "      <th>3</th>\n",
       "      <td>23:59:59</td>\n",
       "      <td>IZEA</td>\n",
       "      <td>HOLD+</td>\n",
       "      <td>0</td>\n",
       "      <td>3923</td>\n",
       "      <td></td>\n",
       "      <td></td>\n",
       "      <td>ZeroSubstance</td>\n",
       "      <td></td>\n",
       "      <td></td>\n",
       "      <td>0</td>\n",
       "      <td></td>\n",
       "    </tr>\n",
       "    <tr>\n",
       "      <th>4</th>\n",
       "      <td>09:35:33</td>\n",
       "      <td>MU</td>\n",
       "      <td>SS</td>\n",
       "      <td>45.77</td>\n",
       "      <td>-1000</td>\n",
       "      <td>SMRT</td>\n",
       "      <td>NaN</td>\n",
       "      <td>TRIB5621</td>\n",
       "      <td>Short</td>\n",
       "      <td>AUTO</td>\n",
       "      <td>0</td>\n",
       "      <td>NaN</td>\n",
       "    </tr>\n",
       "    <tr>\n",
       "      <th>5</th>\n",
       "      <td>09:36:02</td>\n",
       "      <td>MU</td>\n",
       "      <td>B</td>\n",
       "      <td>46</td>\n",
       "      <td>1000</td>\n",
       "      <td>SMRT</td>\n",
       "      <td>NaN</td>\n",
       "      <td>TRIB5621</td>\n",
       "      <td>Margin</td>\n",
       "      <td>AUTO</td>\n",
       "      <td>-230</td>\n",
       "      <td>NaN</td>\n",
       "    </tr>\n",
       "    <tr>\n",
       "      <th>6</th>\n",
       "      <td>09:37:48</td>\n",
       "      <td>MU</td>\n",
       "      <td>B</td>\n",
       "      <td>46.3</td>\n",
       "      <td>1000</td>\n",
       "      <td>SMRT</td>\n",
       "      <td>NaN</td>\n",
       "      <td>TRIB5621</td>\n",
       "      <td>Margin</td>\n",
       "      <td>AUTO</td>\n",
       "      <td>0</td>\n",
       "      <td>NaN</td>\n",
       "    </tr>\n",
       "    <tr>\n",
       "      <th>7</th>\n",
       "      <td>09:38:46</td>\n",
       "      <td>MU</td>\n",
       "      <td>S</td>\n",
       "      <td>46.44</td>\n",
       "      <td>-250</td>\n",
       "      <td>SMRT</td>\n",
       "      <td>NaN</td>\n",
       "      <td>TRIB5621</td>\n",
       "      <td>Margin</td>\n",
       "      <td>AUTO</td>\n",
       "      <td>35</td>\n",
       "      <td>NaN</td>\n",
       "    </tr>\n",
       "    <tr>\n",
       "      <th>8</th>\n",
       "      <td>09:41:12</td>\n",
       "      <td>MU</td>\n",
       "      <td>S</td>\n",
       "      <td>46.32</td>\n",
       "      <td>-750</td>\n",
       "      <td>SMRT</td>\n",
       "      <td>NaN</td>\n",
       "      <td>TRIB5621</td>\n",
       "      <td>Margin</td>\n",
       "      <td>AUTO</td>\n",
       "      <td>15</td>\n",
       "      <td>NaN</td>\n",
       "    </tr>\n",
       "    <tr>\n",
       "      <th>9</th>\n",
       "      <td>09:53:58</td>\n",
       "      <td>MU</td>\n",
       "      <td>SS</td>\n",
       "      <td>46.46</td>\n",
       "      <td>-479</td>\n",
       "      <td>SMRT</td>\n",
       "      <td>NaN</td>\n",
       "      <td>TRIB5621</td>\n",
       "      <td>Short</td>\n",
       "      <td>AUTO</td>\n",
       "      <td>0</td>\n",
       "      <td>NaN</td>\n",
       "    </tr>\n",
       "    <tr>\n",
       "      <th>10</th>\n",
       "      <td>09:59:45</td>\n",
       "      <td>MU</td>\n",
       "      <td>B</td>\n",
       "      <td>46.88</td>\n",
       "      <td>479</td>\n",
       "      <td>SMRT</td>\n",
       "      <td>NaN</td>\n",
       "      <td>TRIB5621</td>\n",
       "      <td>Margin</td>\n",
       "      <td>AUTO</td>\n",
       "      <td>-201.18</td>\n",
       "      <td>NaN</td>\n",
       "    </tr>\n",
       "    <tr>\n",
       "      <th>11</th>\n",
       "      <td>10:00:10</td>\n",
       "      <td>MU</td>\n",
       "      <td>B</td>\n",
       "      <td>46.94</td>\n",
       "      <td>313</td>\n",
       "      <td>SMRT</td>\n",
       "      <td>NaN</td>\n",
       "      <td>TRIB5621</td>\n",
       "      <td>Margin</td>\n",
       "      <td>AUTO</td>\n",
       "      <td>0</td>\n",
       "      <td>NaN</td>\n",
       "    </tr>\n",
       "    <tr>\n",
       "      <th>12</th>\n",
       "      <td>10:00:10</td>\n",
       "      <td>MU</td>\n",
       "      <td>B</td>\n",
       "      <td>46.94</td>\n",
       "      <td>250</td>\n",
       "      <td>SMRT</td>\n",
       "      <td>NaN</td>\n",
       "      <td>TRIB5621</td>\n",
       "      <td>Margin</td>\n",
       "      <td>AUTO</td>\n",
       "      <td>0</td>\n",
       "      <td>NaN</td>\n",
       "    </tr>\n",
       "    <tr>\n",
       "      <th>13</th>\n",
       "      <td>10:00:13</td>\n",
       "      <td>MU</td>\n",
       "      <td>B</td>\n",
       "      <td>46.92</td>\n",
       "      <td>200</td>\n",
       "      <td>SMRT</td>\n",
       "      <td>NaN</td>\n",
       "      <td>TRIB5621</td>\n",
       "      <td>Margin</td>\n",
       "      <td>AUTO</td>\n",
       "      <td>0</td>\n",
       "      <td>NaN</td>\n",
       "    </tr>\n",
       "    <tr>\n",
       "      <th>14</th>\n",
       "      <td>11:54:38</td>\n",
       "      <td>MU</td>\n",
       "      <td>S</td>\n",
       "      <td>47.15</td>\n",
       "      <td>-763</td>\n",
       "      <td>SMRT</td>\n",
       "      <td>NaN</td>\n",
       "      <td>TRIB5621</td>\n",
       "      <td>Margin</td>\n",
       "      <td>AUTO</td>\n",
       "      <td>164.23</td>\n",
       "      <td>NaN</td>\n",
       "    </tr>\n",
       "    <tr>\n",
       "      <th>15</th>\n",
       "      <td>15:11:28</td>\n",
       "      <td>MU</td>\n",
       "      <td>SS</td>\n",
       "      <td>47.18</td>\n",
       "      <td>-1050</td>\n",
       "      <td>SMRT</td>\n",
       "      <td>NaN</td>\n",
       "      <td>TRIB5621</td>\n",
       "      <td>Short</td>\n",
       "      <td>AUTO</td>\n",
       "      <td>0</td>\n",
       "      <td>NaN</td>\n",
       "    </tr>\n",
       "    <tr>\n",
       "      <th>16</th>\n",
       "      <td>15:44:39</td>\n",
       "      <td>MU</td>\n",
       "      <td>B</td>\n",
       "      <td>47.21</td>\n",
       "      <td>300</td>\n",
       "      <td>SMRT</td>\n",
       "      <td>NaN</td>\n",
       "      <td>TRIB5621</td>\n",
       "      <td>Margin</td>\n",
       "      <td>AUTO</td>\n",
       "      <td>-9</td>\n",
       "      <td>NaN</td>\n",
       "    </tr>\n",
       "    <tr>\n",
       "      <th>17</th>\n",
       "      <td>23:59:59</td>\n",
       "      <td>MU</td>\n",
       "      <td>HOLD-</td>\n",
       "      <td>0</td>\n",
       "      <td>-750</td>\n",
       "      <td></td>\n",
       "      <td></td>\n",
       "      <td>ZeroSubstance</td>\n",
       "      <td></td>\n",
       "      <td></td>\n",
       "      <td>0</td>\n",
       "      <td></td>\n",
       "    </tr>\n",
       "    <tr>\n",
       "      <th>18</th>\n",
       "      <td>14:15:08</td>\n",
       "      <td>ROKU</td>\n",
       "      <td>B</td>\n",
       "      <td>55.58</td>\n",
       "      <td>265</td>\n",
       "      <td>SMRT</td>\n",
       "      <td>NaN</td>\n",
       "      <td>TRIB5621</td>\n",
       "      <td>Margin</td>\n",
       "      <td>AUTO</td>\n",
       "      <td>0</td>\n",
       "      <td>NaN</td>\n",
       "    </tr>\n",
       "    <tr>\n",
       "      <th>19</th>\n",
       "      <td>14:19:13</td>\n",
       "      <td>ROKU</td>\n",
       "      <td>S</td>\n",
       "      <td>55.46</td>\n",
       "      <td>-265</td>\n",
       "      <td>SMRT</td>\n",
       "      <td>NaN</td>\n",
       "      <td>TRIB5621</td>\n",
       "      <td>Margin</td>\n",
       "      <td>AUTO</td>\n",
       "      <td>-31.8</td>\n",
       "      <td>NaN</td>\n",
       "    </tr>\n",
       "    <tr>\n",
       "      <th>20</th>\n",
       "      <td>13:54:52</td>\n",
       "      <td>WMT</td>\n",
       "      <td>B</td>\n",
       "      <td>98.2</td>\n",
       "      <td>425</td>\n",
       "      <td>SMRT</td>\n",
       "      <td>NaN</td>\n",
       "      <td>TRIB5621</td>\n",
       "      <td>Margin</td>\n",
       "      <td>AUTO</td>\n",
       "      <td>0</td>\n",
       "      <td>NaN</td>\n",
       "    </tr>\n",
       "    <tr>\n",
       "      <th>21</th>\n",
       "      <td>13:56:01</td>\n",
       "      <td>WMT</td>\n",
       "      <td>S</td>\n",
       "      <td>98.01</td>\n",
       "      <td>-425</td>\n",
       "      <td>SMRT</td>\n",
       "      <td>NaN</td>\n",
       "      <td>TRIB5621</td>\n",
       "      <td>Margin</td>\n",
       "      <td>AUTO</td>\n",
       "      <td>-80.75</td>\n",
       "      <td>NaN</td>\n",
       "    </tr>\n",
       "  </tbody>\n",
       "</table>\n",
       "</div>"
      ],
      "text/plain": [
       "        Time  Symb   Side  Price    Qty Route Broker        Account    Type  \\\n",
       "0   09:44:54  IZEA      B   1.63   6016  SMRT    NaN       TRIB5621  Margin   \n",
       "1   09:45:21  IZEA      B   1.59   1830  SMRT    NaN       TRIB5621  Margin   \n",
       "2   09:47:48  IZEA      S   1.65  -3923  SMRT    NaN       TRIB5621  Margin   \n",
       "3   23:59:59  IZEA  HOLD+      0   3923               ZeroSubstance           \n",
       "4   09:35:33    MU     SS  45.77  -1000  SMRT    NaN       TRIB5621   Short   \n",
       "5   09:36:02    MU      B     46   1000  SMRT    NaN       TRIB5621  Margin   \n",
       "6   09:37:48    MU      B   46.3   1000  SMRT    NaN       TRIB5621  Margin   \n",
       "7   09:38:46    MU      S  46.44   -250  SMRT    NaN       TRIB5621  Margin   \n",
       "8   09:41:12    MU      S  46.32   -750  SMRT    NaN       TRIB5621  Margin   \n",
       "9   09:53:58    MU     SS  46.46   -479  SMRT    NaN       TRIB5621   Short   \n",
       "10  09:59:45    MU      B  46.88    479  SMRT    NaN       TRIB5621  Margin   \n",
       "11  10:00:10    MU      B  46.94    313  SMRT    NaN       TRIB5621  Margin   \n",
       "12  10:00:10    MU      B  46.94    250  SMRT    NaN       TRIB5621  Margin   \n",
       "13  10:00:13    MU      B  46.92    200  SMRT    NaN       TRIB5621  Margin   \n",
       "14  11:54:38    MU      S  47.15   -763  SMRT    NaN       TRIB5621  Margin   \n",
       "15  15:11:28    MU     SS  47.18  -1050  SMRT    NaN       TRIB5621   Short   \n",
       "16  15:44:39    MU      B  47.21    300  SMRT    NaN       TRIB5621  Margin   \n",
       "17  23:59:59    MU  HOLD-      0   -750               ZeroSubstance           \n",
       "18  14:15:08  ROKU      B  55.58    265  SMRT    NaN       TRIB5621  Margin   \n",
       "19  14:19:13  ROKU      S  55.46   -265  SMRT    NaN       TRIB5621  Margin   \n",
       "20  13:54:52   WMT      B   98.2    425  SMRT    NaN       TRIB5621  Margin   \n",
       "21  13:56:01   WMT      S  98.01   -425  SMRT    NaN       TRIB5621  Margin   \n",
       "\n",
       "   Cloid   P / L Unnamed: 11  \n",
       "0   AUTO       0         NaN  \n",
       "1   AUTO       0         NaN  \n",
       "2   AUTO  115.06         NaN  \n",
       "3              0              \n",
       "4   AUTO       0         NaN  \n",
       "5   AUTO    -230         NaN  \n",
       "6   AUTO       0         NaN  \n",
       "7   AUTO      35         NaN  \n",
       "8   AUTO      15         NaN  \n",
       "9   AUTO       0         NaN  \n",
       "10  AUTO -201.18         NaN  \n",
       "11  AUTO       0         NaN  \n",
       "12  AUTO       0         NaN  \n",
       "13  AUTO       0         NaN  \n",
       "14  AUTO  164.23         NaN  \n",
       "15  AUTO       0         NaN  \n",
       "16  AUTO      -9         NaN  \n",
       "17             0              \n",
       "18  AUTO       0         NaN  \n",
       "19  AUTO   -31.8         NaN  \n",
       "20  AUTO       0         NaN  \n",
       "21  AUTO  -80.75         NaN  "
      ]
     },
     "execution_count": 9,
     "metadata": {},
     "output_type": "execute_result"
    }
   ],
   "source": [
    "listdf = idf.insertOvernightRow(trades, swingTrade)\n",
    "listdf"
   ]
  },
  {
   "cell_type": "code",
   "execution_count": 11,
   "metadata": {},
   "outputs": [
    {
     "ename": "AttributeError",
     "evalue": "'InputDataFrame' object has no attribute 'finalReqCol'",
     "output_type": "error",
     "traceback": [
      "\u001b[1;31m---------------------------------------------------------------------------\u001b[0m",
      "\u001b[1;31mAttributeError\u001b[0m                            Traceback (most recent call last)",
      "\u001b[1;32m<ipython-input-11-db3a8e345feb>\u001b[0m in \u001b[0;36m<module>\u001b[1;34m()\u001b[0m\n\u001b[1;32m----> 1\u001b[1;33m \u001b[0midf\u001b[0m\u001b[1;33m.\u001b[0m\u001b[0mfinalReqCol\u001b[0m\u001b[1;33m\u001b[0m\u001b[0m\n\u001b[0m",
      "\u001b[1;31mAttributeError\u001b[0m: 'InputDataFrame' object has no attribute 'finalReqCol'"
     ]
    }
   ],
   "source": [
    "idf.finalReqCol"
   ]
  },
  {
   "cell_type": "code",
   "execution_count": 10,
   "metadata": {},
   "outputs": [
    {
     "ename": "NameError",
     "evalue": "name 'finalReqCol' is not defined",
     "output_type": "error",
     "traceback": [
      "\u001b[1;31m---------------------------------------------------------------------------\u001b[0m",
      "\u001b[1;31mNameError\u001b[0m                                 Traceback (most recent call last)",
      "\u001b[1;32m<ipython-input-10-7d8531934f7f>\u001b[0m in \u001b[0;36m<module>\u001b[1;34m()\u001b[0m\n\u001b[1;32m----> 1\u001b[1;33m \u001b[1;32mfor\u001b[0m \u001b[0ml\u001b[0m \u001b[1;32min\u001b[0m \u001b[0mfinalReqCol\u001b[0m \u001b[1;33m:\u001b[0m\u001b[1;33m\u001b[0m\u001b[0m\n\u001b[0m\u001b[0;32m      2\u001b[0m     \u001b[1;32mif\u001b[0m \u001b[0ml\u001b[0m \u001b[1;32mnot\u001b[0m \u001b[1;32min\u001b[0m \u001b[0mlistdf\u001b[0m\u001b[1;33m.\u001b[0m\u001b[0mcolumns\u001b[0m \u001b[1;33m:\u001b[0m\u001b[1;33m\u001b[0m\u001b[0m\n\u001b[0;32m      3\u001b[0m         \u001b[0mlistdf\u001b[0m\u001b[1;33m[\u001b[0m\u001b[0ml\u001b[0m\u001b[1;33m]\u001b[0m \u001b[1;33m=\u001b[0m \u001b[1;34m''\u001b[0m\u001b[1;33m\u001b[0m\u001b[0m\n\u001b[0;32m      4\u001b[0m \u001b[0mlistdf\u001b[0m\u001b[1;33m\u001b[0m\u001b[0m\n",
      "\u001b[1;31mNameError\u001b[0m: name 'finalReqCol' is not defined"
     ]
    }
   ],
   "source": [
    "for l in idf.finalReqCol :\n",
    "    if l not in listdf.columns :\n",
    "        listdf[l] = ''\n",
    "listdf"
   ]
  },
  {
   "cell_type": "code",
   "execution_count": null,
   "metadata": {},
   "outputs": [],
   "source": [
    "# trades.columns\n",
    "newTrades = listdf[finalReqCol]\n",
    "newTrades.copy()"
   ]
  },
  {
   "cell_type": "code",
   "execution_count": null,
   "metadata": {},
   "outputs": [],
   "source": []
  },
  {
   "cell_type": "code",
   "execution_count": null,
   "metadata": {},
   "outputs": [],
   "source": []
  },
  {
   "cell_type": "code",
   "execution_count": null,
   "metadata": {},
   "outputs": [],
   "source": []
  },
  {
   "cell_type": "code",
   "execution_count": null,
   "metadata": {},
   "outputs": [],
   "source": []
  },
  {
   "cell_type": "code",
   "execution_count": null,
   "metadata": {},
   "outputs": [],
   "source": []
  },
  {
   "cell_type": "code",
   "execution_count": null,
   "metadata": {},
   "outputs": [],
   "source": []
  },
  {
   "cell_type": "code",
   "execution_count": null,
   "metadata": {},
   "outputs": [],
   "source": []
  },
  {
   "cell_type": "code",
   "execution_count": null,
   "metadata": {},
   "outputs": [],
   "source": []
  },
  {
   "cell_type": "code",
   "execution_count": null,
   "metadata": {},
   "outputs": [],
   "source": []
  },
  {
   "cell_type": "code",
   "execution_count": null,
   "metadata": {},
   "outputs": [],
   "source": []
  },
  {
   "cell_type": "code",
   "execution_count": null,
   "metadata": {},
   "outputs": [],
   "source": []
  },
  {
   "cell_type": "code",
   "execution_count": null,
   "metadata": {},
   "outputs": [],
   "source": []
  },
  {
   "cell_type": "code",
   "execution_count": null,
   "metadata": {},
   "outputs": [],
   "source": []
  },
  {
   "cell_type": "code",
   "execution_count": null,
   "metadata": {},
   "outputs": [],
   "source": []
  },
  {
   "cell_type": "code",
   "execution_count": null,
   "metadata": {},
   "outputs": [],
   "source": []
  },
  {
   "cell_type": "code",
   "execution_count": null,
   "metadata": {},
   "outputs": [],
   "source": []
  },
  {
   "cell_type": "code",
   "execution_count": null,
   "metadata": {},
   "outputs": [],
   "source": []
  },
  {
   "cell_type": "code",
   "execution_count": null,
   "metadata": {},
   "outputs": [],
   "source": []
  },
  {
   "cell_type": "code",
   "execution_count": null,
   "metadata": {},
   "outputs": [],
   "source": []
  },
  {
   "cell_type": "code",
   "execution_count": null,
   "metadata": {},
   "outputs": [],
   "source": [
    "listdf = idf.insertOvernightRow(trades, swingTrade)"
   ]
  },
  {
   "cell_type": "code",
   "execution_count": null,
   "metadata": {},
   "outputs": [],
   "source": [
    "listdf"
   ]
  },
  {
   "cell_type": "code",
   "execution_count": null,
   "metadata": {},
   "outputs": [],
   "source": [
    "newTrades = listdf[finalReqCol]\n",
    "newTrades"
   ]
  },
  {
   "cell_type": "code",
   "execution_count": null,
   "metadata": {},
   "outputs": [],
   "source": [
    "newTrades.copy()"
   ]
  },
  {
   "cell_type": "code",
   "execution_count": null,
   "metadata": {},
   "outputs": [],
   "source": []
  },
  {
   "cell_type": "code",
   "execution_count": null,
   "metadata": {},
   "outputs": [],
   "source": []
  }
 ],
 "metadata": {
  "kernelspec": {
   "display_name": "Python 3",
   "language": "python",
   "name": "python3"
  },
  "language_info": {
   "codemirror_mode": {
    "name": "ipython",
    "version": 3
   },
   "file_extension": ".py",
   "mimetype": "text/x-python",
   "name": "python",
   "nbconvert_exporter": "python",
   "pygments_lexer": "ipython3",
   "version": "3.6.5"
  }
 },
 "nbformat": 4,
 "nbformat_minor": 1
}
