{
 "cells": [
  {
   "cell_type": "markdown",
   "metadata": {},
   "source": [
    "### Add a module that accesses strategies to help with the daily analysis. Should include descriptions of accepted strategies and personal strategies. Save the material in a sqllite db. Unspecified version for this one. Probably an elemental version of this in version 1. \n",
    "###### Morning ORB, ABCD, VWAP Reversal (Bull Flag and Fallen angel for low float).\n",
    "###### Late Morning VWAP false break out and VWAP reversal\n",
    "###### Mid-Day VWAP Moving Average Trend VWAP false breakout\n",
    "###### Close VWAP MA Trend\n",
    "### Prototype version will have the features of version 1 but run in Jupyter notebook.\n",
    "### Version 1 will include the kind of wizard daily review with prompts to get the picture (videos in an unspecified version) and the stops, targets, explanation and analysis. The nature of those will change when this moves to a windowed app\n",
    "### Version 2 is going to be the summary stuff.\n",
    "### Version 2.5 will include archive saving of all the input of Trades from DAS (Datess may be an issue as DAS Trades window is time only (I think)"
   ]
  },
  {
   "cell_type": "code",
   "execution_count": null,
   "metadata": {},
   "outputs": [],
   "source": [
    "%matplotlib inline\n",
    "import pandas as pd"
   ]
  },
  {
   "cell_type": "code",
   "execution_count": null,
   "metadata": {},
   "outputs": [],
   "source": [
    "import datetime, os, openpyxl\n",
    "from PIL import Image as PILImage\n",
    "from PIL import ImageGrab"
   ]
  },
  {
   "cell_type": "code",
   "execution_count": null,
   "metadata": {},
   "outputs": [],
   "source": [
    "# tdir = os.path.join(\"C:\\\\trader\\journal\\_08_August\\Week_4\\_0821_Tuesday\")\n",
    "# tdir = (r\"C:\\trader\\journal\\_08_August\\Week_4\\_0822_Wednesday\")\n",
    "tdir = (r\"C:\\trader\\journal\\_08_August\\Week_5\\_0828_Tuesday\")\n",
    "\n",
    "tdir"
   ]
  },
  {
   "cell_type": "code",
   "execution_count": null,
   "metadata": {},
   "outputs": [],
   "source": [
    "from IPython.core.display import HTML\n",
    "css = open('data/style-table.css').read() + open('data/style-notebook.css').read()\n",
    "HTML('<style>{}</style>'.format(css))"
   ]
  },
  {
   "cell_type": "code",
   "execution_count": null,
   "metadata": {},
   "outputs": [],
   "source": [
    "tdir"
   ]
  },
  {
   "cell_type": "code",
   "execution_count": null,
   "metadata": {},
   "outputs": [],
   "source": [
    "tfile=os.path.join(tdir, \"Trades.csv\")\n",
    "tfile"
   ]
  },
  {
   "cell_type": "code",
   "execution_count": null,
   "metadata": {},
   "outputs": [],
   "source": [
    "# tfile=\"TradesWithHolds.csv\"\n",
    "# tfile=\"TradesExcelEdited.csv\"\n",
    "# tfile=\"TradesWithBothHolds.csv\"\n",
    "\n",
    "#The copied path from file explorer fails\n",
    "# t=os.path.join(\"C:\\trader\\journal\\_08_August\\Week_3\\_0817_Friday\", \"Trades.csv\")\n",
    "\n",
    "\n",
    "\n",
    "tfile"
   ]
  },
  {
   "cell_type": "code",
   "execution_count": null,
   "metadata": {},
   "outputs": [],
   "source": [
    "trades = pd.read_csv(tfile)"
   ]
  },
  {
   "cell_type": "code",
   "execution_count": null,
   "metadata": {},
   "outputs": [],
   "source": [
    "trades"
   ]
  },
  {
   "cell_type": "code",
   "execution_count": null,
   "metadata": {},
   "outputs": [],
   "source": [
    "def checkRequiredInputFields(dframe) :\n",
    "    RequiredFields = ['Time', 'Symb', 'Side', 'Price', 'Qty', 'P / L']\n",
    "    ActualFields=dframe.columns\n",
    "    if set (RequiredFields) <= (set (ActualFields)) :\n",
    "        print(\"got it\")\n",
    "    else :\n",
    "        err='You are missing some fields in your input file:\\n'\n",
    "        err += str((set(RequiredFields) - set(ActualFields)))\n",
    "        raise ValueError(err)\n"
   ]
  },
  {
   "cell_type": "code",
   "execution_count": null,
   "metadata": {},
   "outputs": [],
   "source": [
    "def createDf(dframe, numRow) :\n",
    "    ''' Creates a new DataFrame with  the length numRow. Each cell is filled with empty string '''\n",
    "\n",
    "    ll=list()\n",
    "    r=list()\n",
    "    for i in range(len(dframe.columns)) :\n",
    "        r.append('')\n",
    "        \n",
    "    for i in range(numRow) :\n",
    "        ll.append(r)\n",
    "    newdf= pd.DataFrame(ll, columns=dframe.columns)\n",
    "\n",
    "    return newdf"
   ]
  },
  {
   "cell_type": "code",
   "execution_count": null,
   "metadata": {},
   "outputs": [],
   "source": [
    "def addRows(dframe, numRow) :\n",
    "    newdf= createDf(dframe, numRow)\n",
    "        \n",
    "    \n",
    "    dframe = dframe.append(newdf, ignore_index=True, sort=False)\n",
    "    \n",
    "    return dframe\n",
    "\n",
    "    "
   ]
  },
  {
   "cell_type": "markdown",
   "metadata": {},
   "source": [
    "### Make sure the hour string is 0 padded.  Should probably change these to data types. "
   ]
  },
  {
   "cell_type": "markdown",
   "metadata": {},
   "source": [
    "### Todo- This, and the duration, will get more complex with the IB report format. The html report uses a long timedate format"
   ]
  },
  {
   "cell_type": "code",
   "execution_count": null,
   "metadata": {},
   "outputs": [],
   "source": [
    "def zeroPadTimeStr(dframe, timeHeading) :\n",
    "    '''Guarantee that the time format xx:xx:xx'''\n",
    "    \n",
    "\n",
    "    for i, row in dframe.iterrows():\n",
    "        tm = row[timeHeading]\n",
    "        tms=tm.split(\":\")\n",
    "        if int(len(tms[0]) < 2) :\n",
    "            if tms[0].startswith(\"0\") == False :\n",
    "                tm= \"0\" + tm\n",
    "                dframe.at[i, timeHeading] = tm\n",
    "    return dframe\n",
    "                "
   ]
  },
  {
   "cell_type": "markdown",
   "metadata": {},
   "source": [
    "### Todo. Doctor an input csv file to include fractional numer of shares for testing. Make it more modular by checking for 'HOLD'. It might be useful in a windowed version with menus to do things seperately."
   ]
  },
  {
   "cell_type": "code",
   "execution_count": null,
   "metadata": {},
   "outputs": [],
   "source": [
    "def mkShortsNegative(dframe, side, qty) :\n",
    "    ''' Fix the shares sold to be negative values. Currently assuming DAS values 'B', 'S', 'SS' for 'Side'. \n",
    "    '''\n",
    "    for i, row in dframe.iterrows():\n",
    "        if row[side] != 'B' and row[qty] > 0:\n",
    "            dframe.at[i, qty] = ((dframe.at[i, qty]) * -1)\n",
    "    return dframe"
   ]
  },
  {
   "cell_type": "markdown",
   "metadata": {},
   "source": [
    "### def getListTickerDF(df) will take a dataframe that includes tickers in column 'Symb' and returns a python list of DataFrames , 1 for each ticker."
   ]
  },
  {
   "cell_type": "code",
   "execution_count": null,
   "metadata": {},
   "outputs": [],
   "source": [
    "def getListTickerDF(dframe, tickCol = 'Symb') :\n",
    "    ldf_tick = list()\n",
    "    for ticker in dframe[tickCol].unique() :\n",
    "        ldf = dframe[dframe[tickCol] == ticker]\n",
    "        ldf_tick.append(ldf)\n",
    "    return ldf_tick"
   ]
  },
  {
   "cell_type": "code",
   "execution_count": null,
   "metadata": {},
   "outputs": [],
   "source": [
    "\n",
    "def getOvernightTrades(dframe, tickCol='Symb', qtyCol='Qty') :\n",
    "    ''' getOvernightTrades(dframe) takes the DataFrame and returns a list of lists \n",
    "        (symb, qty) of trades that have overnight shares. '''\n",
    "    \n",
    "    ldf_tick = getListTickerDF(dframe, tickCol)\n",
    "    overnightTrade = list()\n",
    "    for ticker in ldf_tick :\n",
    "        if ticker[qtyCol].sum() != 0 :\n",
    "            overnightTrade.append([ticker[tickCol].unique()[0], ticker[qtyCol].sum(), 0, 0])\n",
    "    return overnightTrade"
   ]
  },
  {
   "cell_type": "markdown",
   "metadata": {},
   "source": [
    "### Note that this does not yet include those shares that are held before the days trading began. Redo this to remake the list of data frames from the Symbols of Swing List then make a list of data frams that  excludes those then merge them together"
   ]
  },
  {
   "cell_type": "code",
   "execution_count": null,
   "metadata": {},
   "outputs": [],
   "source": [
    "def askUser(st, question, ix, default) :\n",
    "    while True :\n",
    "        try :\n",
    "            response = input(question)\n",
    "            if len(response) < 1 :\n",
    "                response = default\n",
    "            else :\n",
    "                response = int(response)\n",
    "        except Exception as ex:\n",
    "            print(ex)\n",
    "            print(\"please enter a number\")\n",
    "            continue\n",
    "       \n",
    "        st[ix] = response\n",
    "        return st\n"
   ]
  },
  {
   "cell_type": "code",
   "execution_count": null,
   "metadata": {},
   "outputs": [],
   "source": [
    "# for i in range(len(swingTrade)) :\n",
    "def figureOvernightTransactions() :\n",
    "    swingTrade = getOvernightTrades(trades)\n",
    "    for i in range(len(swingTrade)) :\n",
    "        tryAgain =  True\n",
    "        while tryAgain == True :\n",
    "\n",
    "            xticker = 0      #Candy coaters\n",
    "            xbalance = 1\n",
    "            xbefore = 2\n",
    "            xafter = 3\n",
    "            print(swingTrade[i])\n",
    "            print (\"There is an unbalanced amount of shares of {0} in the amount of {1}\".format(swingTrade[i][xticker], swingTrade[i][xbalance]))\n",
    "\n",
    "            question = \"How many shares of {0} are you holding now? (Enter for {1})\".format(swingTrade[i][xticker], swingTrade[i][xbalance])\n",
    "            swingTrade[i] = askUser(swingTrade[i], question, xafter, swingTrade[i][xbalance])\n",
    "\n",
    "            if swingTrade[i][xafter] != swingTrade[i][xbalance]:\n",
    "\n",
    "                difference = swingTrade[i][xbalance] - swingTrade[i][xafter]\n",
    "                statement = \"There is now a prior unbalanced amount of shares of {0} in the amount of {1}\"\n",
    "                print(statement.format(swingTrade[i][xticker], difference))\n",
    "                question = \"How many shares of {0} were you holding before?\".format(swingTrade[i][xticker])\n",
    "                swingTrade[i] = askUser(swingTrade[i], question, xbefore, difference)\n",
    "\n",
    "            unaccounted = swingTrade[i][xbefore] + swingTrade[i][xafter] - swingTrade[i][xbalance]\n",
    "            if unaccounted == 0 :\n",
    "                print(\"That works.\")\n",
    "                tryAgain = False\n",
    "            else :\n",
    "                print()\n",
    "                print(\"There are {1} unaccounted for shares in {0}\".format(swingTrade[i][xticker], unaccounted))\n",
    "                print()\n",
    "                print(\"That does not add up. Starting over ...\")\n",
    "                print()\n",
    "                print (\"Prior to reset version \", i, swingTrade)\n",
    "                swingTrade[i] = getOvernightTrades(trades)[i]\n",
    "                print (\"reset version \", i, swingTrade)\n",
    "    return swingTrade"
   ]
  },
  {
   "cell_type": "code",
   "execution_count": null,
   "metadata": {},
   "outputs": [],
   "source": [
    "def insertOvernightRowold(dframe, swingTrade, time='Time', symbol='Symb', side='Side', price='Price', qty='Qty', acct=\"Account\", PL='P / L') :\n",
    "    newdf = createDf(trades, 0)\n",
    "    for ldf in getListTickerDF(dframe) :\n",
    "        found=False\n",
    "        for ticker, balance, before, after in swingTrade:\n",
    "            if ticker == ldf.Symb.unique()[0] :\n",
    "#                 print (\"Got {0} with the balance {1}\". format (ticker, balance))\n",
    "                found = True\n",
    "                ldf = addRows(ldf, 1)\n",
    "                for i, row in ldf.iterrows():\n",
    "\n",
    "                    if i == len(ldf) -1 :\n",
    "                        ldf.at[i, time] = '23:59:59'\n",
    "                        ldf.at[i, symbol] = ticker\n",
    "                        if balance > 0 :\n",
    "                            ldf.at[i, side] = \"HOLD+\"\n",
    "                        else :\n",
    "                            ldf.at[i, side] = \"HOLD-\"\n",
    "                        ldf.at[i, price] = 0\n",
    "                        ldf.at[i, qty] = after\n",
    "                        ldf.at[i, acct] = 'ZeroSubstance'\n",
    "                        ldf.at[i, PL] = 0\n",
    "        newdf = newdf.append(ldf, ignore_index = True)\n",
    "    return newdf"
   ]
  },
  {
   "cell_type": "code",
   "execution_count": null,
   "metadata": {},
   "outputs": [],
   "source": [
    "def insertOvernightRow(dframe, st, time='Time', symbol='Symb', side='Side', price='Price', qty='Qty', acct=\"Account\", PL='P / L') :\n",
    "    newdf = createDf(trades, 0)\n",
    "    \n",
    "    for ldf in getListTickerDF(dframe) :\n",
    "        found=False\n",
    "        for ticker, balance, before, after in swingTrade:\n",
    "            if ticker == ldf.Symb.unique()[0] :\n",
    "                print (\"Got {0} with the balance {1}, before {2} and after {3}\". format (ticker, balance, before, after))\n",
    "                if before != 0 :\n",
    "                    newldf = createDf(trades, 1)\n",
    "                    print(\"length:   \", len(newldf))\n",
    "                    for i, row in newldf.iterrows():\n",
    "\n",
    "                        if i == len(newldf) -1 :\n",
    "                            print(\"Though this seems unnecessary it will make it more uniform \")\n",
    "                            newldf.at[i, time] = '00:00:01'\n",
    "                            newldf.at[i, symbol] = ticker\n",
    "                            if before > 0 :\n",
    "                                newldf.at[i, side] = \"HOLD+\"\n",
    "                            else :\n",
    "                                newldf.at[i, side] = \"HOLD-\"\n",
    "                            newldf.at[i, price] = 0\n",
    "                            newldf.at[i, qty] = before\n",
    "                            newldf.at[i, acct] = 'ZeroSubstance'\n",
    "                            newldf.at[i, PL] = 0\n",
    "                            \n",
    "                            ldf = newldf.append(ldf, ignore_index = True)\n",
    "                        break #This should be unnecessary as newldf should always be the length of 1 here\n",
    "                if after != 0 :\n",
    "                    print(\"Are we good?\")\n",
    "                    ldf = addRows(ldf, 1)\n",
    "        \n",
    "                    for i, row in ldf.iterrows():\n",
    "\n",
    "                        if i == len(ldf) -1 :\n",
    "                            ldf.at[i, time] = '23:59:59'\n",
    "                            ldf.at[i, symbol] = ticker\n",
    "                            if balance > 0 :\n",
    "                                ldf.at[i, side] = \"HOLD+\"\n",
    "                            else :\n",
    "                                ldf.at[i, side] = \"HOLD-\"\n",
    "                            ldf.at[i, price] = 0\n",
    "                            ldf.at[i, qty] = after\n",
    "                            ldf.at[i, acct] = 'ZeroSubstance'\n",
    "                            ldf.at[i, PL] = 0\n",
    "        \n",
    "        newdf = newdf.append(ldf, ignore_index = True, sort = False)\n",
    "    return newdf"
   ]
  },
  {
   "cell_type": "code",
   "execution_count": null,
   "metadata": {},
   "outputs": [],
   "source": [
    "def writeShareBalance(dframe) :\n",
    "    prevBal = 0\n",
    "    for i, row in dframe.iterrows():\n",
    "        qty = (dframe.at[i,'Qty'])\n",
    "        if row['Side'].startswith(\"HOLD\") :\n",
    "            print(\"got it at \", qty)\n",
    "            qty = qty * -1\n",
    "        newBalance = qty + prevBal\n",
    "\n",
    "        dframe.at[i,'Balance'] = newBalance \n",
    "        prevBal = newBalance    \n",
    "    return nt"
   ]
  },
  {
   "cell_type": "code",
   "execution_count": null,
   "metadata": {},
   "outputs": [],
   "source": [
    "def addStartTime(dframe) :\n",
    "    newTrade = True\n",
    "    for i, row in dframe.iterrows():\n",
    "#         print(i, row['Time'])\n",
    "        if newTrade :\n",
    "            if row['Side'].startswith('HOLD') and i < len(dframe):\n",
    "                \n",
    "                oldTime = dframe.at[i+1, 'Time']\n",
    "#                 print(\"     :Index: {0},  Side: {1}, Time{2}, setting {3}\".format(i, row['Side'], row['Time'], oldTime))\n",
    "                dframe.at[i, 'Start'] = oldTime\n",
    "\n",
    "            else :\n",
    "                oldTime = dframe.at[i, 'Time']\n",
    "#                 print(\"     :Index: {0},  Side: {1}, Time{2}, setting {3}\".format(i, row['Side'], row['Time'], oldTime))\n",
    "                dframe.at[i, 'Start'] = oldTime\n",
    "                \n",
    "                \n",
    "            newTrade = False\n",
    "        else :\n",
    "#             print(\"      Finally :Index: {0},  Side: {1}, Time{2}, setting {3}\".format(i, row['Side'], row['Time'], oldTime))\n",
    "            dframe.at[i, 'Start'] = oldTime\n",
    "        if row['Balance'] == 0 :\n",
    "#             print(\"       setting newTrade\")\n",
    "            newTrade = True\n",
    "    return dframe\n",
    "        "
   ]
  },
  {
   "cell_type": "markdown",
   "metadata": {},
   "source": [
    "## Now that we have Trade index and start times everything else in this file should use filters nt[nt.Tindex == \"Trade 1\"] . This way each trade can be treated as an object that includes a variable number of transactions."
   ]
  },
  {
   "cell_type": "code",
   "execution_count": null,
   "metadata": {},
   "outputs": [],
   "source": [
    "def addTradeIndex(dframe) :\n",
    "\n",
    "    TCount = 1\n",
    "    prevEndTrade = -1\n",
    "\n",
    "    for i, row in dframe.iterrows():\n",
    "        if len(row['Symb']) < 1 :\n",
    "            break\n",
    "        tradeIndex = \"Trade \" + str(TCount)\n",
    "        if prevEndTrade == 0:\n",
    "            TCount = TCount + 1\n",
    "            prevEndTrade = -1\n",
    "        tradeIndex = \"Trade \" + str(TCount)\n",
    "        dframe.at[i,'Tindex'] = tradeIndex \n",
    "        if row['Balance'] == 0 :\n",
    "            prevEndTrade = 0\n",
    "    numTrades = TCount\n",
    "    print(numTrades)        \n",
    "    return dframe"
   ]
  },
  {
   "cell_type": "markdown",
   "metadata": {},
   "source": [
    "### This will blow up from wrong types if there is some kind of anomaly. The blank rows in Sum col are str and the filled rows are float. Don't fix it until it blows up. (or you need change this 'now' to production code for some reason) That way we have some case to fix."
   ]
  },
  {
   "cell_type": "markdown",
   "metadata": {},
   "source": [
    "###### nt['P / L'].sum()\n",
    "###### nt['P / L'].dtype"
   ]
  },
  {
   "cell_type": "code",
   "execution_count": null,
   "metadata": {},
   "outputs": [],
   "source": [
    "def addTradePL (dframe) :\n",
    "    tradeTotal = 0.0\n",
    "    for i, row in dframe.iterrows():\n",
    "        if row['Balance'] != 0 :\n",
    "            tradeTotal = tradeTotal + row['P / L']\n",
    "        else :\n",
    "            sumtotal = tradeTotal + row['P / L']\n",
    "            dframe.at[i, 'Sum'] = sumtotal\n",
    "            tradeTotal = 0\n",
    "    return dframe\n"
   ]
  },
  {
   "cell_type": "code",
   "execution_count": null,
   "metadata": {},
   "outputs": [],
   "source": [
    "def addTradeDuration(dframe) :\n",
    "    \n",
    "    tradeTotal = 0.0\n",
    "    for i, row in dframe.iterrows():\n",
    "        if row['Balance'] == 0 :\n",
    "            timeEnd = row['Time']\n",
    "            timeStart = row['Start']\n",
    "            end=timeEnd.split(\":\")\n",
    "            start=timeStart.split(\":\")\n",
    "            diff = datetime.datetime(1,1,1,int(end[0]), int(end[1]), int(end[2])) - datetime.datetime(1,1,1,int(start[0]), int(start[1]), int(start[2]))\n",
    "            dframe.at[i,'Duration'] = diff\n",
    "    return dframe\n"
   ]
  },
  {
   "cell_type": "code",
   "execution_count": null,
   "metadata": {},
   "outputs": [],
   "source": [
    "def addTradeName(dframe) :\n",
    "    for i, row in dframe.iterrows():\n",
    "        longShort = \" Long\"\n",
    "        if row['Balance'] == 0 :\n",
    "            if row['Side'] == 'B' :\n",
    "                longShort = \" Short\"\n",
    "            dframe.at[i, 'Name'] = row['Symb'] + longShort\n",
    "    return dframe\n",
    "\n"
   ]
  },
  {
   "cell_type": "code",
   "execution_count": null,
   "metadata": {},
   "outputs": [],
   "source": [
    "# Note that .sum() should work on this but it failed when I tried it.\n",
    "def addSummaryPL(dframe) :\n",
    "    \n",
    "    count=0\n",
    "    tot=0.0\n",
    "    tot2 = 0.0\n",
    "    for i, row in dframe.iterrows():\n",
    "        count=count+1\n",
    "        if count < len(dframe) :\n",
    "            tot=tot+row['P / L']\n",
    "            if row['Balance'] == 0 :\n",
    " \n",
    "                tot2 = tot2 + row['Sum']\n",
    "            if count == len(dframe) -1 :\n",
    "                lastCol = row['P / L']\n",
    "\n",
    "                print(\"Last col?\", row['P / L'])\n",
    "   \n",
    "        else :\n",
    "            dframe.at[i, 'P / L'] = tot\n",
    "            dframe.at[i, 'Sum'] = tot2\n",
    "\n",
    "    if lastCol > 0:\n",
    "\n",
    "        print('''\n",
    "        Some shares are unaccounted for. Please send the original csv file to the developer in \n",
    "        order to fix ths issue in the software. Please remove the account number  or change its value\n",
    "        to anything else.\n",
    "        ''')\n",
    "    return dframe\n"
   ]
  },
  {
   "cell_type": "code",
   "execution_count": null,
   "metadata": {},
   "outputs": [],
   "source": [
    "# Adjust size to keep the aspect ration\n",
    "# The actual version should calculate the height based\n",
    "# no the number of cells between entries. That \n",
    "# will be a number chosen by the user (with constraints) \n",
    "# pixels per cell height is about 20.238095238095237\n",
    "# The default size (425) is height about 21 unaltered excel cells\n",
    "\n",
    "def adjustSizeByHeight(sz, newHeight=425) :\n",
    "    w,h = sz\n",
    "    newWidth = int((newHeight/h) * w)\n",
    "    newheight = int(newHeight)\n",
    "    return(newWidth, newHeight)"
   ]
  },
  {
   "cell_type": "code",
   "execution_count": null,
   "metadata": {},
   "outputs": [],
   "source": [
    "def getPilImageFromClipboard() :\n",
    "    for i in range (5) :\n",
    "        response = input(\"Are you ready? \")\n",
    "        if response.lower().startswith('y') : \n",
    "            im = ImageGrab.grabclipboard()\n",
    "            if im is None :\n",
    "                print(\"Failed to get an image. Please select and copy an image\")\n",
    "            else :\n",
    "                return im\n",
    "        else :\n",
    "            if response.lower().startswith('q') :\n",
    "                return null\n",
    "    print(\"Moving on\")\n",
    "# img = getPilImageFromClipboard()\n",
    "# img"
   ]
  },
  {
   "cell_type": "code",
   "execution_count": null,
   "metadata": {},
   "outputs": [],
   "source": [
    "# orig: an image file name\n",
    "# Returns a tuple(newFileName, extension)\n",
    "#     changes jpg to jpeg to appease PIL.save()\n",
    "\n",
    "def getResizeName(orig) :\n",
    "    x=os.path.splitext(orig)\n",
    "    if (len (x[1]) < 4 ) :\n",
    "        print(\"please provide an image name with an image extension in its name. e.g 'png', jpg', etc\")\n",
    "    newName = x[0] + '_resize'\n",
    "    if 'jpg' in x[1].lower() :\n",
    "        newName += '.jpeg'\n",
    "    else :\n",
    "        newName += x[1]\n",
    "    return (newName, os.path.splitext(newName)[1][1:])\n",
    "\n",
    "# getResizeName('fred.png')"
   ]
  },
  {
   "cell_type": "code",
   "execution_count": null,
   "metadata": {},
   "outputs": [],
   "source": [
    "# dframe contains the transactions of a single trade.  Single trade ends when the balance of shares is 0\n",
    "# Return value is a string 'Long' or 'Short'\n",
    "def getLongOrShort(dframe) :\n",
    "    tsx = dframe[dframe.Balance == 0]\n",
    "\n",
    "    \n",
    "    if len(tsx) != 1 :\n",
    "        return None\n",
    "    if str(tsx.Side) == 'B' or str(tsx.Side) == 'Hold-':\n",
    "        return 'Short'    \n",
    "    else :\n",
    "        return 'Long'\n",
    "    \n",
    "\n",
    "    "
   ]
  },
  {
   "cell_type": "markdown",
   "metadata": {},
   "source": [
    "###### dframe contains the transactions of a single trade.  longOrShort needs to be a str 'Long' or 'Short'. Will raise an exception if they are not Returns a tuple of dataFrames (entries, exits)-- not ready for prime time\n",
    "def getEntriesAndExits(dframe,longOrShort) :\n",
    "    if longOrShort.lower() not in ['long', 'short'] :\n",
    "        #Programming error if we are here\n",
    "        raise NameError('getEntriesAndExits requires a parameter of either Long or Short. %s is not acceptible' % longOrShort)\n",
    "        return None\n",
    "    f_ent, f_ext = ('B', 'S') if longOrShort == 'Long' else ('S', 'B')\n",
    "    ent = tdf[tdf.Side.str.startswith(f_ent)]\n",
    "    ext = tdf[tdf.Side.str.startswith(f_ext)]\n",
    "    return ent, ext\n",
    "getEntriesAndExits(tdf, 'Short')[0]"
   ]
  },
  {
   "cell_type": "code",
   "execution_count": null,
   "metadata": {},
   "outputs": [],
   "source": [
    "checkRequiredInputFields(trades)"
   ]
  },
  {
   "cell_type": "code",
   "execution_count": null,
   "metadata": {},
   "outputs": [],
   "source": [
    "trades = zeroPadTimeStr(trades, 'Time')"
   ]
  },
  {
   "cell_type": "code",
   "execution_count": null,
   "metadata": {},
   "outputs": [],
   "source": [
    "trades"
   ]
  },
  {
   "cell_type": "code",
   "execution_count": null,
   "metadata": {},
   "outputs": [],
   "source": [
    "trades = trades.sort_values(['Symb', 'Time'])"
   ]
  },
  {
   "cell_type": "code",
   "execution_count": null,
   "metadata": {},
   "outputs": [],
   "source": [
    "trades"
   ]
  },
  {
   "cell_type": "code",
   "execution_count": null,
   "metadata": {},
   "outputs": [],
   "source": [
    "trades = mkShortsNegative(trades, 'Side', 'Qty')"
   ]
  },
  {
   "cell_type": "code",
   "execution_count": null,
   "metadata": {},
   "outputs": [],
   "source": [
    "trades"
   ]
  },
  {
   "cell_type": "code",
   "execution_count": null,
   "metadata": {},
   "outputs": [],
   "source": [
    "swingTrade = getOvernightTrades(trades)"
   ]
  },
  {
   "cell_type": "code",
   "execution_count": null,
   "metadata": {},
   "outputs": [],
   "source": [
    "swingTrade"
   ]
  },
  {
   "cell_type": "code",
   "execution_count": null,
   "metadata": {},
   "outputs": [],
   "source": [
    "swingTrade = figureOvernightTransactions()"
   ]
  },
  {
   "cell_type": "code",
   "execution_count": null,
   "metadata": {},
   "outputs": [],
   "source": [
    "swingTrade"
   ]
  },
  {
   "cell_type": "code",
   "execution_count": null,
   "metadata": {},
   "outputs": [],
   "source": [
    "listdf = insertOvernightRow(trades, swingTrade)"
   ]
  },
  {
   "cell_type": "code",
   "execution_count": null,
   "metadata": {},
   "outputs": [],
   "source": [
    "listdf"
   ]
  },
  {
   "cell_type": "code",
   "execution_count": null,
   "metadata": {},
   "outputs": [],
   "source": [
    "lbls = ['Tindex', 'Start', 'Time', 'Symb', 'Side', 'Price', 'Qty','Balance', 'Account', \"P / L\", 'Sum', 'Duration', 'Name']"
   ]
  },
  {
   "cell_type": "code",
   "execution_count": null,
   "metadata": {},
   "outputs": [],
   "source": [
    "for l in lbls :\n",
    "    if l not in listdf.columns :\n",
    "        listdf[l] = ''\n",
    "# trades.columns\n",
    "newTrades = listdf[lbls]\n",
    "newTrades.copy()\n",
    "# newTrades.columns"
   ]
  },
  {
   "cell_type": "code",
   "execution_count": null,
   "metadata": {},
   "outputs": [],
   "source": [
    "nt = newTrades.sort_values(['Symb', 'Time'])"
   ]
  },
  {
   "cell_type": "code",
   "execution_count": null,
   "metadata": {},
   "outputs": [],
   "source": [
    "nt"
   ]
  },
  {
   "cell_type": "code",
   "execution_count": null,
   "metadata": {},
   "outputs": [],
   "source": [
    "nt = writeShareBalance(nt)"
   ]
  },
  {
   "cell_type": "code",
   "execution_count": null,
   "metadata": {},
   "outputs": [],
   "source": [
    "nt"
   ]
  },
  {
   "cell_type": "code",
   "execution_count": null,
   "metadata": {},
   "outputs": [],
   "source": [
    "nt = addStartTime(nt)"
   ]
  },
  {
   "cell_type": "code",
   "execution_count": null,
   "metadata": {},
   "outputs": [],
   "source": [
    "nt"
   ]
  },
  {
   "cell_type": "code",
   "execution_count": null,
   "metadata": {},
   "outputs": [],
   "source": [
    "nt = nt.sort_values(['Start', 'Time'])"
   ]
  },
  {
   "cell_type": "code",
   "execution_count": null,
   "metadata": {},
   "outputs": [],
   "source": [
    "nt"
   ]
  },
  {
   "cell_type": "code",
   "execution_count": null,
   "metadata": {},
   "outputs": [],
   "source": [
    "nt = addTradeIndex(nt)"
   ]
  },
  {
   "cell_type": "code",
   "execution_count": null,
   "metadata": {
    "scrolled": true
   },
   "outputs": [],
   "source": [
    "nt"
   ]
  },
  {
   "cell_type": "code",
   "execution_count": null,
   "metadata": {},
   "outputs": [],
   "source": [
    "nt = addTradePL(nt)"
   ]
  },
  {
   "cell_type": "code",
   "execution_count": null,
   "metadata": {},
   "outputs": [],
   "source": [
    "nt"
   ]
  },
  {
   "cell_type": "code",
   "execution_count": null,
   "metadata": {},
   "outputs": [],
   "source": [
    "nt = addTradeDuration(nt)"
   ]
  },
  {
   "cell_type": "code",
   "execution_count": null,
   "metadata": {},
   "outputs": [],
   "source": [
    "nt"
   ]
  },
  {
   "cell_type": "code",
   "execution_count": null,
   "metadata": {},
   "outputs": [],
   "source": [
    "nt = addTradeName(nt)"
   ]
  },
  {
   "cell_type": "code",
   "execution_count": null,
   "metadata": {},
   "outputs": [],
   "source": [
    "nt"
   ]
  },
  {
   "cell_type": "code",
   "execution_count": null,
   "metadata": {},
   "outputs": [],
   "source": [
    "nt=addRows(nt,1)"
   ]
  },
  {
   "cell_type": "code",
   "execution_count": null,
   "metadata": {},
   "outputs": [],
   "source": [
    "nt = addSummaryPL(nt)\n",
    "# nt = addSummaryPL(nt)"
   ]
  },
  {
   "cell_type": "code",
   "execution_count": null,
   "metadata": {},
   "outputs": [],
   "source": [
    "nt"
   ]
  },
  {
   "cell_type": "code",
   "execution_count": null,
   "metadata": {},
   "outputs": [],
   "source": [
    "# adjustSizeByHeight ((1024,2037))"
   ]
  },
  {
   "cell_type": "code",
   "execution_count": null,
   "metadata": {},
   "outputs": [],
   "source": [
    "# Request a clipboard copy of an image. Resze it to newSize height. Save it with a new name. Return the name. Hackiness lives\n",
    "# until I figure how to create a proper openpyxl Image object from a PIL Image object that doesn't make the Workbook puke.\n",
    "def getAndResizeImage (newSize) :\n",
    "    try :\n",
    "#         pilImage= PILImage.open(imgName)\n",
    "        pilImage = getPilImageFromClipboard() \n",
    "        newSize = adjustSizeByHeight(pilImage.size)\n",
    "        pilImage = pilImage.resize(newSize, PILImage.ANTIALIAS)\n",
    "        resizeName, ext = getResizeName(imgName)\n",
    "        pilImage.save(resizeName, ext)\n",
    "\n",
    "    except IOError as e :\n",
    "        print(\"An exception occured '%s'\" % e)\n",
    "    return resizeName"
   ]
  },
  {
   "cell_type": "code",
   "execution_count": null,
   "metadata": {},
   "outputs": [],
   "source": [
    "# Now  we are going to add each trade and insert space to put in pictures with circles and arrows and \n",
    "# paragraph on the back of each one to be used as evidence against you in a court of law (or court of bb opionion)\n",
    "insertsize=25\n",
    "dframe = nt\n",
    "ldf = list()\n",
    "count = 1\n",
    "while True :\n",
    "    tradeStr = \"Trade \" + str(count)\n",
    "    count = count + 1\n",
    "    tdf = dframe[dframe.Tindex == tradeStr]\n",
    "    if len(tdf) > 0 :\n",
    "        ldf.append(tdf)\n",
    "    else :\n",
    "        break\n",
    "len(ldf)\n",
    "\n",
    "dframe = addRows(dframe, 2)"
   ]
  },
  {
   "cell_type": "code",
   "execution_count": null,
   "metadata": {},
   "outputs": [],
   "source": [
    "# ldf\n"
   ]
  },
  {
   "cell_type": "markdown",
   "metadata": {},
   "source": [
    "### TODO The Hold is not operating correctly. This method is writen like I intend it to function"
   ]
  },
  {
   "cell_type": "code",
   "execution_count": null,
   "metadata": {},
   "outputs": [],
   "source": [
    "entries = list()\n",
    "exits= list()\n",
    "for tdf in ldf:\n",
    "    longOrShort = getLongOrShort(tdf)\n",
    "    \n",
    "    ent = tdf[tdf.Side == 'B']\n",
    "    ext = tdf[tdf.Side.str.startswith('S')]\n",
    "    entries.append(ent)\n",
    "    exits.append(ext)\n",
    "    print(getLongOrShort(tdf))\n",
    "        \n",
    "    break\n"
   ]
  },
  {
   "cell_type": "code",
   "execution_count": null,
   "metadata": {},
   "outputs": [],
   "source": []
  },
  {
   "cell_type": "code",
   "execution_count": null,
   "metadata": {},
   "outputs": [],
   "source": []
  },
  {
   "cell_type": "code",
   "execution_count": null,
   "metadata": {},
   "outputs": [],
   "source": []
  },
  {
   "cell_type": "code",
   "execution_count": null,
   "metadata": {},
   "outputs": [],
   "source": []
  },
  {
   "cell_type": "code",
   "execution_count": null,
   "metadata": {},
   "outputs": [],
   "source": [
    "dframe.columns"
   ]
  },
  {
   "cell_type": "code",
   "execution_count": null,
   "metadata": {},
   "outputs": [],
   "source": [
    "imageLocation = list()\n",
    "newdf = createDf(dframe,  10)\n",
    "topMargin = 10\n",
    "dframe = newdf.append(dframe, ignore_index = True)\n",
    "for tdf in ldf :\n",
    "    imageLocation.append(len(tdf) + len(dframe) + 2)\n",
    "    print(len(tdf) + len(dframe) + 2)\n",
    "\n",
    "    dframe = dframe.append(tdf, ignore_index = True)\n",
    "    dframe = addRows(dframe, insertsize)\n",
    "#     print(count, \": \", len(dframe))\n",
    "\n",
    "len(dframe)"
   ]
  },
  {
   "cell_type": "code",
   "execution_count": null,
   "metadata": {
    "scrolled": false
   },
   "outputs": [],
   "source": [
    "# for tdf in ldf :\n",
    "#     dframe = dframe.append(tdf, ignore_index = True)\n",
    "#     dframe = addRows(dframe, insertsize)\n",
    "#     print(count, \": \", len(dframe))\n",
    "    \n",
    "nt = dframe"
   ]
  },
  {
   "cell_type": "code",
   "execution_count": null,
   "metadata": {},
   "outputs": [],
   "source": [
    "# nt"
   ]
  },
  {
   "cell_type": "markdown",
   "metadata": {},
   "source": [
    "#####  TODO - Catch Permission Denied exception and inform the user"
   ]
  },
  {
   "cell_type": "code",
   "execution_count": null,
   "metadata": {},
   "outputs": [],
   "source": [
    "from openpyxl.utils.dataframe import dataframe_to_rows\n",
    "from openpyxl import Workbook\n",
    "wb = Workbook()\n",
    "ws = wb.active\n",
    "\n",
    "for r in dataframe_to_rows(nt, index=False, header=False):\n",
    "    ws.append(r)"
   ]
  },
  {
   "cell_type": "code",
   "execution_count": null,
   "metadata": {},
   "outputs": [],
   "source": [
    "# ws[imageLocation[0]][0].value = 'Tindexxx"
   ]
  },
  {
   "cell_type": "code",
   "execution_count": null,
   "metadata": {},
   "outputs": [],
   "source": [
    "for name, cell  in zip(nt.columns, ws[topMargin]) :\n",
    "    cell.value = name\n",
    "#     print(name, cell.value)"
   ]
  },
  {
   "cell_type": "code",
   "execution_count": null,
   "metadata": {},
   "outputs": [],
   "source": [
    "for c in ws[10] :\n",
    "    print (c.value)"
   ]
  },
  {
   "cell_type": "code",
   "execution_count": null,
   "metadata": {},
   "outputs": [],
   "source": [
    "imgName = 'tempImage.jpg'\n",
    "for i in imageLocation :\n",
    "    try :\n",
    "        pilImage = getPilImageFromClipboard() \n",
    "        newSize = adjustSizeByHeight(pilImage.size)\n",
    "        pilImage = pilImage.resize(newSize, PILImage.ANTIALIAS)\n",
    "        resizeName, ext = getResizeName(imgName)\n",
    "        pilImage.save(resizeName, ext)\n",
    "        img = openpyxl.drawing.image.Image(resizeName)\n",
    "        cellname = 'E' + str(i)\n",
    "        ws.add_image(img, cellname)\n",
    "        print(cellname)\n",
    "            \n",
    "            \n",
    "            \n",
    "            \n",
    "            \n",
    "            \n",
    "            \n",
    "            \n",
    "\n",
    "    except IOError as e :\n",
    "        print(\"An exception occured '%s'\" % e)\n",
    "        \n",
    "            \n"
   ]
  },
  {
   "cell_type": "code",
   "execution_count": null,
   "metadata": {
    "scrolled": true
   },
   "outputs": [],
   "source": [
    "for c in ws[10]:\n",
    "    print(c.value)"
   ]
  },
  {
   "cell_type": "code",
   "execution_count": null,
   "metadata": {},
   "outputs": [],
   "source": []
  },
  {
   "cell_type": "code",
   "execution_count": null,
   "metadata": {},
   "outputs": [],
   "source": []
  },
  {
   "cell_type": "code",
   "execution_count": null,
   "metadata": {},
   "outputs": [],
   "source": []
  },
  {
   "cell_type": "code",
   "execution_count": null,
   "metadata": {},
   "outputs": [],
   "source": []
  },
  {
   "cell_type": "code",
   "execution_count": null,
   "metadata": {},
   "outputs": [],
   "source": []
  },
  {
   "cell_type": "code",
   "execution_count": null,
   "metadata": {},
   "outputs": [],
   "source": [
    "wb.save('out/diditwork.xlsx')"
   ]
  },
  {
   "cell_type": "code",
   "execution_count": null,
   "metadata": {},
   "outputs": [],
   "source": []
  },
  {
   "cell_type": "code",
   "execution_count": null,
   "metadata": {},
   "outputs": [],
   "source": []
  },
  {
   "cell_type": "code",
   "execution_count": null,
   "metadata": {},
   "outputs": [],
   "source": []
  },
  {
   "cell_type": "code",
   "execution_count": null,
   "metadata": {},
   "outputs": [],
   "source": [
    "# name=datetime.date.today().strftime(\"Trades_%A_%m%d.csv\")\n",
    "namexl=datetime.date.today().strftime(\"Trades_%A_%m%d.xlsx\")\n",
    "\n",
    "# nt.to_csv(name, index=False)\n",
    "# nt.to_excel(\"AddingPictures.xlsx\", index=False)\n",
    "namexl"
   ]
  },
  {
   "cell_type": "code",
   "execution_count": null,
   "metadata": {
    "scrolled": false
   },
   "outputs": [],
   "source": [
    "tdir='C:\\\\trader\\\\journal\\\\_08_August\\\\Week_4\\\\_0821_Tuesday\\\\'\n",
    "# tdir = \"out\"\n",
    "# outfile=tdir+ name\n",
    "# nt.to_csv(outfile)\n"
   ]
  },
  {
   "cell_type": "code",
   "execution_count": null,
   "metadata": {},
   "outputs": [],
   "source": [
    "jname=os.path.join(tdir,namexl)\n",
    "jname"
   ]
  },
  {
   "cell_type": "code",
   "execution_count": null,
   "metadata": {},
   "outputs": [],
   "source": [
    "nt.to_excel(jname, index=False)"
   ]
  },
  {
   "cell_type": "code",
   "execution_count": null,
   "metadata": {},
   "outputs": [],
   "source": []
  }
 ],
 "metadata": {
  "kernelspec": {
   "display_name": "Python 3",
   "language": "python",
   "name": "python3"
  },
  "language_info": {
   "codemirror_mode": {
    "name": "ipython",
    "version": 3
   },
   "file_extension": ".py",
   "mimetype": "text/x-python",
   "name": "python",
   "nbconvert_exporter": "python",
   "pygments_lexer": "ipython3",
   "version": "3.6.5"
  }
 },
 "nbformat": 4,
 "nbformat_minor": 1
}
