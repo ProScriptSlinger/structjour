{
 "cells": [
  {
   "cell_type": "code",
   "execution_count": null,
   "metadata": {},
   "outputs": [],
   "source": [
    "%matplotlib inline\n",
    "import pandas as pd"
   ]
  },
  {
   "cell_type": "code",
   "execution_count": null,
   "metadata": {},
   "outputs": [],
   "source": [
    "from IPython.core.display import HTML\n",
    "css = open('style-table.css').read() + open('style-notebook.css').read()\n",
    "HTML('<style>{}</style>'.format(css))"
   ]
  },
  {
   "cell_type": "code",
   "execution_count": null,
   "metadata": {},
   "outputs": [],
   "source": [
    "import os\n",
    "tfile = os.path.join(\"C:\\\\trader\\journal\\_08_August\\Week_3\\_0817_Friday\", \"Trades.csv\")\n",
    "tfile=\"TradesWithHolds.csv\"\n",
    "# tfile=\"TradesExcelEdited.csv\"\n",
    "\n",
    "#The copied path from file explorer fails\n",
    "t=os.path.join(\"C:\\trader\\journal\\_08_August\\Week_3\\_0817_Friday\", \"Trades.csv\")\n",
    "\n",
    "\n",
    "\n",
    "t"
   ]
  },
  {
   "cell_type": "code",
   "execution_count": null,
   "metadata": {},
   "outputs": [],
   "source": [
    "trades = pd.read_csv(tfile)\n",
    "trades"
   ]
  },
  {
   "cell_type": "code",
   "execution_count": null,
   "metadata": {},
   "outputs": [],
   "source": [
    "def addRowsOld(dframe, numRow) :\n",
    "    ll=list()\n",
    "    r=list()\n",
    "    for i in range(len(dframe.columns)) :\n",
    "        r.append('')\n",
    "        \n",
    "    for i in range(numRow) :\n",
    "        ll.append(r)\n",
    "    newdf= pd.DataFrame(ll, columns=dframe.columns)\n",
    "    \n",
    "    try :\n",
    "        assert(len(ll[0]) == len(dframe.columns))\n",
    "    except AssertionError as ex :\n",
    "        print(\"Coding error. Assertion is untrue:\", ex)\n",
    "        newdf=\"Data Frame is not initialized\"\n",
    "        return newdf\n",
    "    \n",
    "    dframe = dframe.append(newdf, ignore_index=True)\n",
    "    \n",
    "    return dframe\n",
    "\n",
    "    "
   ]
  },
  {
   "cell_type": "code",
   "execution_count": null,
   "metadata": {},
   "outputs": [],
   "source": [
    "def createDf(dframe, numRow) :\n",
    "    ''' Creates a new DataFrame with  the length numRow. Each cell is filled with empty string '''\n",
    "\n",
    "    ll=list()\n",
    "    r=list()\n",
    "    for i in range(len(dframe.columns)) :\n",
    "        r.append('')\n",
    "        \n",
    "    for i in range(numRow) :\n",
    "        ll.append(r)\n",
    "    newdf= pd.DataFrame(ll, columns=dframe.columns)\n",
    "\n",
    "    return newdf"
   ]
  },
  {
   "cell_type": "code",
   "execution_count": null,
   "metadata": {},
   "outputs": [],
   "source": [
    "def addRows(dframe, numRow) :\n",
    "    newdf= createDf(dframe, numRow)\n",
    "        \n",
    "    \n",
    "    dframe = dframe.append(newdf, ignore_index=True)\n",
    "    \n",
    "    return dframe\n",
    "\n",
    "    "
   ]
  },
  {
   "cell_type": "markdown",
   "metadata": {},
   "source": [
    "### Make sure the hour string is 0 padded.  Should probably change these to data types. "
   ]
  },
  {
   "cell_type": "markdown",
   "metadata": {},
   "source": [
    "### Todo- This, and the duration, will get more complex with the IB report format. The html report uses a long timedate format"
   ]
  },
  {
   "cell_type": "code",
   "execution_count": null,
   "metadata": {},
   "outputs": [],
   "source": [
    "def zeroPadTimeStr(dframe, timeHeading) :\n",
    "    '''Guarantee that the time format xx:xx:xx'''\n",
    "    \n",
    "\n",
    "    for i, row in dframe.iterrows():\n",
    "        tm = row[timeHeading]\n",
    "        tms=tm.split(\":\")\n",
    "        if int(len(tms[0]) < 2) :\n",
    "            if tms[0].startswith(\"0\") == False :\n",
    "                tm= \"0\" + tm\n",
    "                dframe.at[i, timeHeading] = tm\n",
    "    return dframe\n",
    "                "
   ]
  },
  {
   "cell_type": "markdown",
   "metadata": {},
   "source": [
    "### Todo. Doctor an input csv file to include fractional numer of shares for testing. Make it more modular by checking for 'HOLD'. It might be useful in a windowed version with menus to do things seperately."
   ]
  },
  {
   "cell_type": "code",
   "execution_count": null,
   "metadata": {},
   "outputs": [],
   "source": [
    "def mkShortsNegative(dframe, side, qty) :\n",
    "    ''' Fix the shares sold to be negative values. Currently assuming DAS values 'B', 'S', 'SS' for 'Side'. \n",
    "    '''\n",
    "    for i, row in dframe.iterrows():\n",
    "        if row[side] != 'B' and row[qty] > 0:\n",
    "            dframe.at[i, qty] = ((dframe.at[i, qty]) * -1)\n",
    "    return dframe"
   ]
  },
  {
   "cell_type": "markdown",
   "metadata": {},
   "source": [
    "### def getListTickerDF(df) will take a dataframe that includes tickers in column 'Symb' and returns a python list of DataFrames , 1 for each ticker."
   ]
  },
  {
   "cell_type": "code",
   "execution_count": null,
   "metadata": {},
   "outputs": [],
   "source": [
    "def getListTickerDF(dframe, tickCol = 'Symb') :\n",
    "    ldf_tick = list()\n",
    "    for ticker in dframe[tickCol].unique() :\n",
    "        ldf = dframe[dframe[tickCol] == ticker]\n",
    "        ldf_tick.append(ldf)\n",
    "    return ldf_tick"
   ]
  },
  {
   "cell_type": "code",
   "execution_count": null,
   "metadata": {},
   "outputs": [],
   "source": [
    "\n",
    "def getOvernightTrades(dframe, tickCol='Symb', qtyCol='Qty') :\n",
    "    ''' getOvernightTrades(dframe) takes the DataFrame and returns a list of lists \n",
    "        (symb, qty) of trades that have overnight shares. '''\n",
    "    \n",
    "    ldf_tick = getListTickerDF(dframe, tickCol)\n",
    "    overnightTrade = list()\n",
    "    for ticker in ldf_tick :\n",
    "        if ticker[qtyCol].sum() != 0 :\n",
    "            overnightTrade.append([ticker[tickCol].unique()[0], ticker[qtyCol].sum(), 0, 0])\n",
    "    return overnightTrade"
   ]
  },
  {
   "cell_type": "markdown",
   "metadata": {},
   "source": [
    "### Note that this does not yet include those shares that are held before the days trading began. Redo this to remake the list of data frames from the Symbols of Swing List then make a list of data frams that  excludes those then merge them together"
   ]
  },
  {
   "cell_type": "code",
   "execution_count": null,
   "metadata": {},
   "outputs": [],
   "source": [
    "def askUser(st, question, ix, default) :\n",
    "    while True :\n",
    "        try :\n",
    "            response = input(question)\n",
    "            if len(response) < 1 :\n",
    "                response = default\n",
    "            else :\n",
    "                response = int(response)\n",
    "        except Exception as ex:\n",
    "            print(ex)\n",
    "            print(\"please enter a number\")\n",
    "            continue\n",
    "       \n",
    "        st[ix] = response\n",
    "        return st\n"
   ]
  },
  {
   "cell_type": "code",
   "execution_count": null,
   "metadata": {},
   "outputs": [],
   "source": [
    "# for i in range(len(swingTrade)) :\n",
    "def figureOvernightTransactions() :\n",
    "    swingTrade = getOvernightTrades(trades)\n",
    "    for i in range(len(swingTrade)) :\n",
    "        tryAgain =  True\n",
    "        while tryAgain == True :\n",
    "\n",
    "            xticker = 0      #Candy coaters\n",
    "            xbalance = 1\n",
    "            xbefore = 2\n",
    "            xafter = 3\n",
    "            print(swingTrade[i])\n",
    "            print (\"There is an unbalanced amount of shares of {0} in the amount of {1}\".format(swingTrade[i][xticker], swingTrade[i][xbalance]))\n",
    "\n",
    "            question = \"How many shares of {0} are you holding now? (Enter for {1})\".format(swingTrade[i][xticker], swingTrade[i][xbalance])\n",
    "            swingTrade[i] = askUser(swingTrade[i], question, xafter, swingTrade[i][xbalance])\n",
    "\n",
    "            if swingTrade[i][xafter] != swingTrade[i][xbalance]:\n",
    "\n",
    "                difference = swingTrade[i][xbalance] - swingTrade[i][xafter]\n",
    "                statement = \"There is now a prior unbalanced amount of shares of {0} in the amount of {1}\"\n",
    "                print(statement.format(swingTrade[i][xticker], difference))\n",
    "                question = \"How many shares of {0} were you holding before?\".format(swingTrade[i][xticker])\n",
    "                swingTrade[i] = askUser(swingTrade[i], question, xbefore, difference)\n",
    "\n",
    "            unaccounted = swingTrade[i][xbefore] + swingTrade[i][xafter] - swingTrade[i][xbalance]\n",
    "            if unaccounted == 0 :\n",
    "                print(\"That works.\")\n",
    "                tryAgain = False\n",
    "            else :\n",
    "                print()\n",
    "                print(\"There are {1} unaccounted for shares in {0}\".format(swingTrade[i][xticker], unaccounted))\n",
    "                print()\n",
    "                print(\"That does not add up. Starting over ...\")\n",
    "                print()\n",
    "                print (\"Prior to reset version \", i, swingTrade)\n",
    "                swingTrade[i] = getOvernightTrades(trades)[i]\n",
    "                print (\"reset version \", i, swingTrade)\n",
    "    return swingTrade"
   ]
  },
  {
   "cell_type": "code",
   "execution_count": null,
   "metadata": {},
   "outputs": [],
   "source": [
    "def insertOvernightRowold(dframe, swingTrade, time='Time', symbol='Symb', side='Side', price='Price', qty='Qty', acct=\"Account\", PL='P / L') :\n",
    "    newdf = createDf(trades, 0)\n",
    "    for ldf in getListTickerDF(dframe) :\n",
    "        found=False\n",
    "        for ticker, balance, before, after in swingTrade:\n",
    "            if ticker == ldf.Symb.unique()[0] :\n",
    "#                 print (\"Got {0} with the balance {1}\". format (ticker, balance))\n",
    "                found = True\n",
    "                ldf = addRows(ldf, 1)\n",
    "                for i, row in ldf.iterrows():\n",
    "\n",
    "                    if i == len(ldf) -1 :\n",
    "                        ldf.at[i, time] = '23:59:59'\n",
    "                        ldf.at[i, symbol] = ticker\n",
    "                        if balance > 0 :\n",
    "                            ldf.at[i, side] = \"HOLD+\"\n",
    "                        else :\n",
    "                            ldf.at[i, side] = \"HOLD-\"\n",
    "                        ldf.at[i, price] = 0\n",
    "                        ldf.at[i, qty] = after\n",
    "                        ldf.at[i, acct] = 'ZeroSubstance'\n",
    "                        ldf.at[i, PL] = 0\n",
    "        newdf = newdf.append(ldf, ignore_index = True)\n",
    "    return newdf"
   ]
  },
  {
   "cell_type": "code",
   "execution_count": null,
   "metadata": {},
   "outputs": [],
   "source": [
    "def insertOvernightRow(dframe, st, time='Time', symbol='Symb', side='Side', price='Price', qty='Qty', acct=\"Account\", PL='P / L') :\n",
    "    newdf = createDf(trades, 0)\n",
    "    \n",
    "    for ldf in getListTickerDF(dframe) :\n",
    "        found=False\n",
    "        for ticker, balance, before, after in swingTrade:\n",
    "            if ticker == ldf.Symb.unique()[0] :\n",
    "                print (\"Got {0} with the balance {1}, before {2} and after {3}\". format (ticker, balance, before, after))\n",
    "                if before != 0 :\n",
    "                    newldf = createDf(trades, 1)\n",
    "                    print(\"length:   \", len(newldf))\n",
    "                    for i, row in newldf.iterrows():\n",
    "\n",
    "                        if i == len(newldf) -1 :\n",
    "                            print(\"Though this seems unnecessary it will make it more uniform \")\n",
    "                            newldf.at[i, time] = '00:00:01'\n",
    "                            newldf.at[i, symbol] = ticker\n",
    "                            if before > 0 :\n",
    "                                newldf.at[i, side] = \"HOLD+\"\n",
    "                            else :\n",
    "                                newldf.at[i, side] = \"HOLD-\"\n",
    "                            newldf.at[i, price] = 0\n",
    "                            newldf.at[i, qty] = before\n",
    "                            newldf.at[i, acct] = 'ZeroSubstance'\n",
    "                            newldf.at[i, PL] = 0\n",
    "                            \n",
    "                            ldf = newldf.append(ldf, ignore_index = True)\n",
    "                        break #This should be unnecessary as newldf should always be the length of 1 here\n",
    "                if after != 0 :\n",
    "                    print(\"Are we good?\")\n",
    "                    ldf = addRows(ldf, 1)\n",
    "        \n",
    "                    for i, row in ldf.iterrows():\n",
    "\n",
    "                        if i == len(ldf) -1 :\n",
    "                            ldf.at[i, time] = '23:59:59'\n",
    "                            ldf.at[i, symbol] = ticker\n",
    "                            if balance > 0 :\n",
    "                                ldf.at[i, side] = \"HOLD+\"\n",
    "                            else :\n",
    "                                ldf.at[i, side] = \"HOLD-\"\n",
    "                            ldf.at[i, price] = 0\n",
    "                            ldf.at[i, qty] = after\n",
    "                            ldf.at[i, acct] = 'ZeroSubstance'\n",
    "                            ldf.at[i, PL] = 0\n",
    "        \n",
    "        newdf = newdf.append(ldf, ignore_index = True)\n",
    "    return newdf"
   ]
  },
  {
   "cell_type": "code",
   "execution_count": null,
   "metadata": {},
   "outputs": [],
   "source": []
  },
  {
   "cell_type": "markdown",
   "metadata": {},
   "source": [
    "# Notebook visual tester code"
   ]
  },
  {
   "cell_type": "code",
   "execution_count": null,
   "metadata": {},
   "outputs": [],
   "source": [
    "# ddf = createDf(trades, 0)\n",
    "# ddf"
   ]
  },
  {
   "cell_type": "code",
   "execution_count": null,
   "metadata": {},
   "outputs": [],
   "source": [
    "# x = zeroPadTimeStr(trades, 'Time')\n",
    "# x.head()"
   ]
  },
  {
   "cell_type": "code",
   "execution_count": null,
   "metadata": {},
   "outputs": [],
   "source": [
    "# trades"
   ]
  },
  {
   "cell_type": "raw",
   "metadata": {},
   "source": []
  },
  {
   "cell_type": "code",
   "execution_count": null,
   "metadata": {},
   "outputs": [],
   "source": [
    "# x = mkShortsNegative(trades, 'Side', 'Qty')\n",
    "# x"
   ]
  },
  {
   "cell_type": "code",
   "execution_count": null,
   "metadata": {},
   "outputs": [],
   "source": [
    "# x = getListTickerDF(trades)\n",
    "# x[2]"
   ]
  },
  {
   "cell_type": "code",
   "execution_count": null,
   "metadata": {},
   "outputs": [],
   "source": [
    "# st = getOvernightTrades(trades)"
   ]
  },
  {
   "cell_type": "code",
   "execution_count": null,
   "metadata": {},
   "outputs": [],
   "source": [
    "# st"
   ]
  },
  {
   "cell_type": "code",
   "execution_count": null,
   "metadata": {},
   "outputs": [],
   "source": [
    "# st= figureOvernightTransactions()"
   ]
  },
  {
   "cell_type": "code",
   "execution_count": null,
   "metadata": {},
   "outputs": [],
   "source": [
    "# st"
   ]
  },
  {
   "cell_type": "code",
   "execution_count": null,
   "metadata": {},
   "outputs": [],
   "source": [
    "# x = insertOvernightRow(trades, st)\n",
    "# x\n",
    "                    \n",
    "                    "
   ]
  },
  {
   "cell_type": "markdown",
   "metadata": {},
   "source": [
    "# End visual tester code"
   ]
  },
  {
   "cell_type": "code",
   "execution_count": null,
   "metadata": {},
   "outputs": [],
   "source": [
    "trades = zeroPadTimeStr(trades, 'Time')"
   ]
  },
  {
   "cell_type": "code",
   "execution_count": null,
   "metadata": {},
   "outputs": [],
   "source": [
    "trades.head()       \n",
    "   "
   ]
  },
  {
   "cell_type": "code",
   "execution_count": null,
   "metadata": {},
   "outputs": [],
   "source": [
    "trades = trades.sort_values(['Symb', 'Time'])"
   ]
  },
  {
   "cell_type": "code",
   "execution_count": null,
   "metadata": {},
   "outputs": [],
   "source": [
    "# trades\n"
   ]
  },
  {
   "cell_type": "code",
   "execution_count": null,
   "metadata": {},
   "outputs": [],
   "source": [
    "trades = mkShortsNegative(trades, 'Side', 'Qty')"
   ]
  },
  {
   "cell_type": "code",
   "execution_count": null,
   "metadata": {},
   "outputs": [],
   "source": [
    "trades.head()"
   ]
  },
  {
   "cell_type": "markdown",
   "metadata": {},
   "source": [
    "### Check to see if any trades are either open now or missing the opening transaction from a preveious time. If there are, Place (ticker, numshares) tuple in a list swingTrades."
   ]
  },
  {
   "cell_type": "code",
   "execution_count": null,
   "metadata": {},
   "outputs": [],
   "source": [
    "swingTrade = getOvernightTrades(trades)"
   ]
  },
  {
   "cell_type": "code",
   "execution_count": null,
   "metadata": {},
   "outputs": [],
   "source": [
    "swingTrade"
   ]
  },
  {
   "cell_type": "code",
   "execution_count": null,
   "metadata": {},
   "outputs": [],
   "source": [
    "len(swingTrade)"
   ]
  },
  {
   "cell_type": "code",
   "execution_count": null,
   "metadata": {},
   "outputs": [],
   "source": [
    "swingTrade"
   ]
  },
  {
   "cell_type": "markdown",
   "metadata": {},
   "source": [
    "### For each ticker that has a balance o f shares, ask the user for informatiion. If the reslting numbers of shares is accounted for great if not, add a row in the ticker df for prior transactions  and one for shares still holding.\n",
    "### This will be a dialogue where the user adjusts share numbers until we geto to the correct balance."
   ]
  },
  {
   "cell_type": "markdown",
   "metadata": {},
   "source": [
    "###### Start here. This code is all messed up"
   ]
  },
  {
   "cell_type": "code",
   "execution_count": null,
   "metadata": {},
   "outputs": [],
   "source": [
    "swingTrade = figureOvernightTransactions()"
   ]
  },
  {
   "cell_type": "code",
   "execution_count": null,
   "metadata": {},
   "outputs": [],
   "source": [
    "print(swingTrade)"
   ]
  },
  {
   "cell_type": "code",
   "execution_count": null,
   "metadata": {},
   "outputs": [],
   "source": [
    "swingTrade"
   ]
  },
  {
   "cell_type": "code",
   "execution_count": null,
   "metadata": {},
   "outputs": [],
   "source": [
    "listdf = insertOvernightRow(trades, swingTrade)\n",
    "listdf"
   ]
  },
  {
   "cell_type": "code",
   "execution_count": null,
   "metadata": {},
   "outputs": [],
   "source": [
    "lbls = ['Tindex', 'Start', 'Time', 'Symb', 'Side', 'Price', 'Qty','Balance', 'Account', \"P / L\", 'Sum', 'Duration', 'Name']"
   ]
  },
  {
   "cell_type": "code",
   "execution_count": null,
   "metadata": {},
   "outputs": [],
   "source": [
    "for l in lbls :\n",
    "    if l not in listdf.columns :\n",
    "        listdf[l] = ''\n",
    "# trades.columns\n",
    "newTrades = listdf[lbls]\n",
    "newTrades.copy()\n",
    "newTrades.columns"
   ]
  },
  {
   "cell_type": "code",
   "execution_count": null,
   "metadata": {},
   "outputs": [],
   "source": [
    "newTrades"
   ]
  },
  {
   "cell_type": "code",
   "execution_count": null,
   "metadata": {},
   "outputs": [],
   "source": []
  },
  {
   "cell_type": "code",
   "execution_count": null,
   "metadata": {},
   "outputs": [],
   "source": []
  },
  {
   "cell_type": "code",
   "execution_count": null,
   "metadata": {},
   "outputs": [],
   "source": []
  },
  {
   "cell_type": "code",
   "execution_count": null,
   "metadata": {},
   "outputs": [],
   "source": []
  },
  {
   "cell_type": "code",
   "execution_count": null,
   "metadata": {},
   "outputs": [],
   "source": [
    "nt = newTrades.sort_values(['Symb', 'Time'])\n",
    "nt.head()"
   ]
  },
  {
   "cell_type": "code",
   "execution_count": null,
   "metadata": {},
   "outputs": [],
   "source": [
    "def writeShareBalance(dframe) :\n",
    "    prevBal = 0\n",
    "    for i, row in dframe.iterrows():\n",
    "        qty = (dframe.at[i,'Qty'])\n",
    "        if row['Side'].startswith(\"HOLD\") :\n",
    "            print(\"got it at \", qty)\n",
    "            qty = qty * -1\n",
    "        newBalance = qty + prevBal\n",
    "\n",
    "        dframe.at[i,'Balance'] = newBalance \n",
    "        prevBal = newBalance    \n",
    "    return nt"
   ]
  },
  {
   "cell_type": "code",
   "execution_count": null,
   "metadata": {},
   "outputs": [],
   "source": [
    "nt = writeShareBalance(nt)\n",
    "nt"
   ]
  },
  {
   "cell_type": "code",
   "execution_count": null,
   "metadata": {},
   "outputs": [],
   "source": [
    "# prevBal = 0\n",
    "# for i, row in nt.iterrows():\n",
    "#     qty = (nt.at[i,'Qty'])\n",
    "#     if row['Side'].startswith(\"HOLD\") :\n",
    "#         print(\"got it at \", qty)\n",
    "#         qty = qty * -1\n",
    "#     newBalance = qty + prevBal\n",
    "    \n",
    "#     nt.at[i,'Balance'] = newBalance \n",
    "#     prevBal = newBalance                \n",
    "    \n",
    "# # nt"
   ]
  },
  {
   "cell_type": "code",
   "execution_count": null,
   "metadata": {},
   "outputs": [],
   "source": [
    "nt"
   ]
  },
  {
   "cell_type": "code",
   "execution_count": null,
   "metadata": {},
   "outputs": [],
   "source": [
    "def addStartTime(dframe) :\n",
    "    newTrade = True\n",
    "    for i, row in dframe.iterrows():\n",
    "        if newTrade :\n",
    "            if row['Side'].startswith('HOLD') and i < len(dframe):\n",
    "                print(\"got Hold and the next time is {0}, {1}, {2}\".format(dframe.at[i+1, 'Time'], i, len(dframe)))\n",
    "                dframe.at[i, 'Start'] = dframe.at[i+1, 'Time']\n",
    "            else :\n",
    "                dframe.at[i,'Start'] = row['Time']\n",
    "            newTrade = False\n",
    "            oldTime = row['Start']\n",
    "        else :\n",
    "            dframe.at[i, 'Start'] = oldTime\n",
    "        if row['Balance'] == 0 :\n",
    "            newTrade = True\n",
    "    return dframe\n",
    "        "
   ]
  },
  {
   "cell_type": "code",
   "execution_count": null,
   "metadata": {},
   "outputs": [],
   "source": [
    "nt = addStartTime(nt)\n",
    "nt"
   ]
  },
  {
   "cell_type": "code",
   "execution_count": null,
   "metadata": {},
   "outputs": [],
   "source": [
    "nt = nt.sort_values(['Start', 'Time'])\n",
    "nt"
   ]
  },
  {
   "cell_type": "markdown",
   "metadata": {},
   "source": [
    "## Now that we have Trade index and start times everything else in this file should use filters nt[nt.Tindex == \"Trade 1\"] . This way each trade can be treated as an object that includes a variable number of transactions."
   ]
  },
  {
   "cell_type": "code",
   "execution_count": null,
   "metadata": {},
   "outputs": [],
   "source": [
    "def addTradeIndex(dframe) :\n",
    "\n",
    "    TCount = 1\n",
    "    prevEndTrade = -1\n",
    "\n",
    "    for i, row in dframe.iterrows():\n",
    "        if len(row['Symb']) < 1 :\n",
    "            break\n",
    "        tradeIndex = \"Trade \" + str(TCount)\n",
    "        if prevEndTrade == 0:\n",
    "            TCount = TCount + 1\n",
    "            prevEndTrade = -1\n",
    "        tradeIndex = \"Trade \" + str(TCount)\n",
    "        dframe.at[i,'Tindex'] = tradeIndex \n",
    "        if row['Balance'] == 0 :\n",
    "            prevEndTrade = 0\n",
    "    numTrades = TCount\n",
    "    print(numTrades)        \n",
    "    return dframe"
   ]
  },
  {
   "cell_type": "code",
   "execution_count": null,
   "metadata": {},
   "outputs": [],
   "source": [
    "# #def addTradeindex\n",
    "# TCount = 1\n",
    "# prevEndTrade = -1\n",
    "\n",
    "# for i, row in nt.iterrows():\n",
    "#     if len(row['Symb']) < 1 :\n",
    "#         break\n",
    "#     tradeIndex = \"Trade \" + str(TCount)\n",
    "#     if prevEndTrade == 0:\n",
    "#         TCount = TCount + 1\n",
    "#         prevEndTrade = -1\n",
    "#     tradeIndex = \"Trade \" + str(TCount)\n",
    "#     nt.at[i,'Tindex'] = tradeIndex \n",
    "#     if row['Balance'] == 0 :\n",
    "#         prevEndTrade = 0\n",
    "# numTrades = TCount\n",
    "# print(numTrades)        \n",
    "# nt"
   ]
  },
  {
   "cell_type": "code",
   "execution_count": null,
   "metadata": {},
   "outputs": [],
   "source": [
    "nt = addTradeIndex(nt)\n",
    "nt.head()"
   ]
  },
  {
   "cell_type": "code",
   "execution_count": null,
   "metadata": {},
   "outputs": [],
   "source": [
    "def addTradePL (dframe) :\n",
    "    tradeTotal = 0.0\n",
    "    for i, row in dframe.iterrows():\n",
    "        if row['Balance'] != 0 :\n",
    "            tradeTotal = tradeTotal + row['P / L']\n",
    "        else :\n",
    "            sumtotal = tradeTotal + row['P / L']\n",
    "            dframe.at[i, 'Sum'] = sumtotal\n",
    "            tradeTotal = 0\n",
    "    return dframe\n",
    "nt = addTradePL(nt)\n",
    "nt.head()"
   ]
  },
  {
   "cell_type": "code",
   "execution_count": null,
   "metadata": {},
   "outputs": [],
   "source": [
    "# #Use filter instead of iteration\n",
    "# # def addTradePL\n",
    "# tradeTotal = 0.0\n",
    "# for i, row in nt.iterrows():\n",
    "#     if row['Balance'] != 0 :\n",
    "#         tradeTotal = tradeTotal + row['P / L']\n",
    "#     else :\n",
    "#         sumtotal = tradeTotal + row['P / L']\n",
    "#         nt.at[i, 'Sum'] = sumtotal\n",
    "#         tradeTotal = 0\n",
    "# nt.head()"
   ]
  },
  {
   "cell_type": "code",
   "execution_count": null,
   "metadata": {},
   "outputs": [],
   "source": [
    "import datetime"
   ]
  },
  {
   "cell_type": "code",
   "execution_count": null,
   "metadata": {},
   "outputs": [],
   "source": [
    "def addTradeDuration(dframe) :\n",
    "    \n",
    "    tradeTotal = 0.0\n",
    "    for i, row in dframe.iterrows():\n",
    "        if row['Balance'] == 0 :\n",
    "            timeEnd = row['Time']\n",
    "            timeStart = row['Start']\n",
    "            end=timeEnd.split(\":\")\n",
    "            start=timeStart.split(\":\")\n",
    "            diff = datetime.datetime(1,1,1,int(end[0]), int(end[1]), int(end[2])) - datetime.datetime(1,1,1,int(start[0]), int(start[1]), int(start[2]))\n",
    "            dframe.at[i,'Duration'] = diff\n",
    "    return dframe\n",
    "nt = addTradeDuration(nt)\n",
    "nt.head()"
   ]
  },
  {
   "cell_type": "code",
   "execution_count": null,
   "metadata": {},
   "outputs": [],
   "source": [
    "# #Use filter instead of iteration\n",
    "# # def addTradeDuration \n",
    "# tradeTotal = 0.0\n",
    "# for i, row in nt.iterrows():\n",
    "#     if row['Balance'] == 0 :\n",
    "#         timeEnd = row['Time']\n",
    "#         timeStart = row['Start']\n",
    "#         end=timeEnd.split(\":\")\n",
    "#         start=timeStart.split(\":\")\n",
    "#         diff = datetime.datetime(1,1,1,int(end[0]), int(end[1]), int(end[2])) - datetime.datetime(1,1,1,int(start[0]), int(start[1]), int(start[2]))\n",
    "#         nt.at[i,'Duration'] = diff\n",
    "# nt.head()"
   ]
  },
  {
   "cell_type": "code",
   "execution_count": null,
   "metadata": {},
   "outputs": [],
   "source": [
    "def addTradeName(dframe) :\n",
    "    for i, row in dframe.iterrows():\n",
    "        longShort = \" Long\"\n",
    "        if row['Balance'] == 0 :\n",
    "            if row['Side'] == 'B' :\n",
    "                longShort = \" Short\"\n",
    "            dframe.at[i, 'Name'] = row['Symb'] + longShort\n",
    "    return dframe\n",
    "\n",
    "nt = addTradeName(nt)\n",
    "nt.head()"
   ]
  },
  {
   "cell_type": "code",
   "execution_count": null,
   "metadata": {},
   "outputs": [],
   "source": [
    "# # def addTradeName\n",
    "# for i, row in nt.iterrows():\n",
    "#     longShort = \" Long\"\n",
    "#     if row['Balance'] == 0 :\n",
    "#         if row['Side'] == 'B' :\n",
    "#             longShort = \" Short\"\n",
    "#         nt.at[i, 'Name'] = row['Symb'] + longShort\n",
    "# nt.head()"
   ]
  },
  {
   "cell_type": "code",
   "execution_count": null,
   "metadata": {},
   "outputs": [],
   "source": [
    "nt=addRows(nt,1)\n",
    "nt.tail(10)"
   ]
  },
  {
   "cell_type": "markdown",
   "metadata": {},
   "source": [
    "### This will blow up from wrong types if there is some kind of anomaly. The blank rows in Sum col are str and the filled rows are float. Don't fix it until it blows up. (or you need change this 'now' to production code for some reason) That way we have some case to fix.\n",
    "### Also need to fix below if the lastCol for Balance > 0 instead of what's there"
   ]
  },
  {
   "cell_type": "code",
   "execution_count": null,
   "metadata": {},
   "outputs": [],
   "source": [
    "# nt['P / L'].sum()\n",
    "nt['P / L'].dtype"
   ]
  },
  {
   "cell_type": "code",
   "execution_count": null,
   "metadata": {},
   "outputs": [],
   "source": [
    "nt"
   ]
  },
  {
   "cell_type": "code",
   "execution_count": null,
   "metadata": {},
   "outputs": [],
   "source": [
    "# Note that .sum() should work on this but it failed when I tried it.\n",
    "def addSummaryPL(dframe) :\n",
    "    \n",
    "    count=0\n",
    "    tot=0.0\n",
    "    tot2 = 0.0\n",
    "    for i, row in dframe.iterrows():\n",
    "        count=count+1\n",
    "        if count < len(dframe) :\n",
    "            tot=tot+row['P / L']\n",
    "            if row['Balance'] == 0 :\n",
    " \n",
    "                tot2 = tot2 + row['Sum']\n",
    "            if count == len(dframe) -1 :\n",
    "                lastCol = row['P / L']\n",
    "\n",
    "                print(\"Last col?\", row['P / L'])\n",
    "   \n",
    "        else :\n",
    "            dframe.at[i, 'P / L'] = tot\n",
    "            dframe.at[i, 'Sum'] = tot2\n",
    "\n",
    "    if lastCol > 0:\n",
    "\n",
    "        print('''\n",
    "        Some shares are unaccounted for. Please send the original csv file to the developer in \n",
    "        order to fix ths issue in the software. Please remove the account number  or change its value\n",
    "        to anything else.\n",
    "        ''')\n",
    "    return dframe\n",
    "nt = addSummaryPL(nt)\n",
    "# nt = addSummaryPL(nt)\n",
    "nt\n",
    "\n"
   ]
  },
  {
   "cell_type": "code",
   "execution_count": null,
   "metadata": {},
   "outputs": [],
   "source": [
    "# # def addSummaryPL\n",
    "# count=0\n",
    "# tot=0.0\n",
    "# tot2 = 0.0\n",
    "# for i, row in nt.iterrows():\n",
    "#     count=count+1\n",
    "#     if count < len(nt) :\n",
    "#         tot=tot+row['P / L']\n",
    "#         if row['Balance'] == 0 :\n",
    "# #             assert(type(row['Sum']) == type(1.1))\n",
    "#             tot2 = tot2 + row['Sum']\n",
    "#         if count == len(nt) -1 :\n",
    "#             lastCol = row['P / L']\n",
    "# #             assert(type(lastCol) == type(1.1))\n",
    "#             print(\"Last col?\", row['P / L'])\n",
    "# #         print(count, \": \", tot, tot2)\n",
    "#     else :\n",
    "#         nt.at[i, 'P / L'] = tot\n",
    "#         nt.at[i, 'Sum'] = tot2\n",
    "# #         print(\"Grand total: \", tot, tot2)\n",
    "\n",
    "# # if(tot != tot2) or lastCol > 0:\n",
    "\n",
    "# if lastCol > 0:\n",
    "\n",
    "#     print('''\n",
    "#     Some shares are unaccounted for. Please send the original csv file to the developer in \n",
    "#     order to fix ths issue in the software. Please remove the account number  or change its value\n",
    "#     to anything else.\n",
    "#     ''')\n",
    "# nt\n",
    "\n"
   ]
  },
  {
   "cell_type": "code",
   "execution_count": null,
   "metadata": {},
   "outputs": [],
   "source": [
    "nt"
   ]
  },
  {
   "cell_type": "code",
   "execution_count": null,
   "metadata": {},
   "outputs": [],
   "source": [
    "\n",
    "# Now  we are going to add each trade and insert space to put in pictures with circles and arrows and \n",
    "# paragraph on the back of each one to be used as evidence against you in a court of law (or court of bb opionion)\n",
    "dframe = nt\n",
    "ldf = list()\n",
    "count = 1\n",
    "while True :\n",
    "    tradeStr = \"Trade \" + str(count)\n",
    "    count = count + 1\n",
    "    tdf = dframe[dframe.Tindex == tradeStr]\n",
    "    if len(tdf) > 0 :\n",
    "        ldf.append(tdf)\n",
    "    else :\n",
    "        break\n",
    "len(ldf)\n",
    "\n",
    "dframe = addRows(dframe, 2)\n",
    "\n",
    "for tdf in ldf :\n",
    "    dframe = dframe.append(tdf, ignore_index = True)\n",
    "    dframe = addRows(dframe, 20)\n",
    "    print(count, \": \", len(dframe))\n",
    "    \n",
    "nt = dframe\n",
    "nt"
   ]
  },
  {
   "cell_type": "code",
   "execution_count": null,
   "metadata": {},
   "outputs": [],
   "source": [
    "nt"
   ]
  },
  {
   "cell_type": "code",
   "execution_count": null,
   "metadata": {},
   "outputs": [],
   "source": [
    "\n",
    "# # Now  we are going to add each trade and insert space to put in pictures with circles and arrows and \n",
    "# # paragraph on the back of each one to be used as evidence against you in a court of law (or court of bb opionion)\n",
    "\n",
    "# ldf = list()\n",
    "# count = 1\n",
    "# while True :\n",
    "#     tradeStr = \"Trade \" + str(count)\n",
    "#     count = count + 1\n",
    "#     tdf = nt[nt.Tindex == tradeStr]\n",
    "#     if len(tdf) > 0 :\n",
    "#         ldf.append(tdf)\n",
    "#     else :\n",
    "#         break\n",
    "# len(ldf)\n",
    "\n",
    "# nt = addRows(nt, 2)\n",
    "\n",
    "# for tdf in ldf :\n",
    "#     nt = nt.append(tdf, ignore_index = True)\n",
    "#     nt = addRows(nt, 20)\n",
    "#     print(count, \": \", len(nt))\n",
    "    \n",
    "# nt"
   ]
  },
  {
   "cell_type": "code",
   "execution_count": null,
   "metadata": {},
   "outputs": [],
   "source": [
    "nt"
   ]
  },
  {
   "cell_type": "code",
   "execution_count": null,
   "metadata": {},
   "outputs": [],
   "source": [
    "name=datetime.date.today().strftime(\"Trades_%A_%m%d.csv\")\n",
    "nt.to_csv(name)"
   ]
  },
  {
   "cell_type": "code",
   "execution_count": null,
   "metadata": {
    "scrolled": false
   },
   "outputs": [],
   "source": []
  },
  {
   "cell_type": "code",
   "execution_count": null,
   "metadata": {},
   "outputs": [],
   "source": []
  }
 ],
 "metadata": {
  "kernelspec": {
   "display_name": "Python 3",
   "language": "python",
   "name": "python3"
  },
  "language_info": {
   "codemirror_mode": {
    "name": "ipython",
    "version": 3
   },
   "file_extension": ".py",
   "mimetype": "text/x-python",
   "name": "python",
   "nbconvert_exporter": "python",
   "pygments_lexer": "ipython3",
   "version": "3.6.5"
  }
 },
 "nbformat": 4,
 "nbformat_minor": 1
}
